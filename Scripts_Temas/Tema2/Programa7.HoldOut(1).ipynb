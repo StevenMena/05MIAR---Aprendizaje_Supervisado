{
  "cells": [
    {
      "cell_type": "code",
      "execution_count": 1,
      "metadata": {
        "id": "u-YRsx7uri1V"
      },
      "outputs": [],
      "source": [
        "import numpy as np\n",
        "from sklearn import datasets\n",
        "from sklearn.dummy import DummyClassifier\n",
        "from sklearn.model_selection import train_test_split\n",
        "from sklearn.preprocessing import StandardScaler"
      ]
    },
    {
      "cell_type": "code",
      "execution_count": 2,
      "metadata": {
        "id": "l5swknV3ri1b",
        "outputId": "14c5ebb2-b3d9-4591-ae1c-1c7b167884a8",
        "colab": {
          "base_uri": "https://localhost:8080/"
        }
      },
      "outputs": [
        {
          "output_type": "stream",
          "name": "stdout",
          "text": [
            "['setosa' 'versicolor' 'virginica']\n"
          ]
        }
      ],
      "source": [
        "# Carga de datos\n",
        "iris = datasets.load_iris()\n",
        "print(iris.target_names)"
      ]
    },
    {
      "cell_type": "code",
      "execution_count": 3,
      "metadata": {
        "id": "zwxLTiFzri1c",
        "outputId": "6fb3ca58-0509-4c71-db33-772bcc483be1",
        "colab": {
          "base_uri": "https://localhost:8080/"
        }
      },
      "outputs": [
        {
          "output_type": "stream",
          "name": "stdout",
          "text": [
            "Tabla de datos: 150 instancias y 4 atributos\n",
            "Valores de la clase: {0, 1, 2}\n",
            "[0 1 2] [50 50 50]\n"
          ]
        }
      ],
      "source": [
        "# Mostrar características de la tabla de datos.\n",
        "print(\"Tabla de datos: %d instancias y %d atributos\" % (iris.data.shape[0], iris.data.shape[1]))\n",
        "print(\"Valores de la clase:\", set(iris.target))\n",
        "\n",
        "# Cuantificamos el número de instancias que contiene el dataset por clase\n",
        "valores, ocurrencias = np.unique(iris.target, return_counts=True)\n",
        "print(valores, ocurrencias)"
      ]
    },
    {
      "cell_type": "code",
      "execution_count": 4,
      "metadata": {
        "id": "0HQtnM1dri1d",
        "outputId": "1a1cce45-bf03-4081-b334-ccc3374e0cfb",
        "colab": {
          "base_uri": "https://localhost:8080/"
        }
      },
      "outputs": [
        {
          "output_type": "stream",
          "name": "stdout",
          "text": [
            "Test:  clases: [0 1 2]  ocurrencias:  [10  9 11]\n"
          ]
        }
      ],
      "source": [
        "# Test: hold-out split 80-20%. # Partición externa = Training + Test\n",
        "#el 0.2 en test_size es el valor que tendra ese conjunto de datos para test\n",
        "#el shuffle por defecto es true, pero este atributo determina si la selecciones de las instancias de la matriz se realiza de manera aleatoria o no\n",
        "#Si es false escoge el 80% y 20% de la manera como esten ordenados los datos.\n",
        "#el random_state es la semilla del algoritmo de aleatoriedad\n",
        "X_training, X_test, y_training, y_test = train_test_split(iris.data, iris.target, test_size=0.2,shuffle=True random_state=42)\n",
        "#valores y ocurrencias de la clase en la partición de test\n",
        "valores_test, ocur_test = np.unique(y_test, return_counts=True)\n",
        "print('Test: ', 'clases:', valores_test, ' ocurrencias: ', ocur_test)"
      ]
    },
    {
      "cell_type": "code",
      "execution_count": null,
      "metadata": {
        "id": "Om3wh8puri1d"
      },
      "outputs": [],
      "source": [
        "# Estandarizar las características de entrenamiento y de test\n",
        "standardizer = StandardScaler()\n",
        "X_training = standardizer.fit_transform(X_training)\n",
        "X_test = standardizer.transform(X_test)"
      ]
    },
    {
      "cell_type": "code",
      "execution_count": null,
      "metadata": {
        "id": "nulLpVQFri1e"
      },
      "outputs": [],
      "source": [
        "# Validación: hold-out split 80-20%. # Partición interna\n",
        "X_train, X_val, y_train, y_val = train_test_split(X_training, y_training, test_size=0.2, random_state=42)\n",
        "valores_train, ocur_train = np.unique(y_train, return_counts=True)\n",
        "print('Entrenamiento: ', ' clases:', valores_train, '  ocurrencias:', ocur_train)\n",
        "\n",
        "valores_val, ocur_val = np.unique(y_val, return_counts=True)\n",
        "print('Validation:    ', ' clases:', valores_val, '  ocurrencias:', ocur_val)"
      ]
    },
    {
      "cell_type": "code",
      "execution_count": null,
      "metadata": {
        "id": "OMwYcCnUri1f"
      },
      "outputs": [],
      "source": [
        "# Construcción del objeto que contiene el algoritmo de aprendizaje.\n",
        "clf = DummyClassifier(strategy='prior', random_state=42)"
      ]
    },
    {
      "cell_type": "code",
      "execution_count": null,
      "metadata": {
        "id": "dvD62lqXri1g"
      },
      "outputs": [],
      "source": [
        "# Entrenamiento del algoritmo de aprendizaje.\n",
        "clf = clf.fit(X_train, y_train)"
      ]
    },
    {
      "cell_type": "code",
      "execution_count": null,
      "metadata": {
        "id": "PBKZMbuxri1g"
      },
      "outputs": [],
      "source": [
        "# Evaluación del algoritmo de aprendizaje con el método \"score\" que devuelve directamente la métrica de 'accuracy'\n",
        "val_accuracy = clf.score(X_val, y_val)\n",
        "print(\"Exactitud en validación: \", val_accuracy)\n",
        "\n",
        "test_accuracy = clf.score(X_test, y_test)\n",
        "print(\"Exactitud en test: \", test_accuracy)"
      ]
    },
    {
      "cell_type": "code",
      "execution_count": null,
      "metadata": {
        "id": "jtJYmkizri1h"
      },
      "outputs": [],
      "source": [
        "# Obtenemos las predicciones sobre conjunto de validación y de test\n",
        "y_pred_val = clf.predict(X_val)\n",
        "print('Predicciones de validación ', y_pred_val)\n",
        "print('Etiquetas reales validación', y_val)\n",
        "\n",
        "y_pred_test = clf.predict(X_test)\n",
        "print('\\nPredicciones de test ', y_pred_val)\n",
        "print('Etiquetas reales test', y_val)"
      ]
    },
    {
      "cell_type": "code",
      "execution_count": null,
      "metadata": {
        "id": "by3TJue_ri1i"
      },
      "outputs": [],
      "source": [
        "# Aplicamos un ejemplo con un clasificador más complejo que el \"dummyclassifier\"\n",
        "from sklearn.svm import SVC\n",
        "\n",
        "# Definimos algoritmo\n",
        "clf = ???\n",
        "\n",
        "# Entrenamos modelo\n",
        "clf = ???\n",
        "\n",
        "# Calculamos la accuracy y volvemos a parametrizar para mejorar los resultados \n",
        "val_accuracy = ???"
      ]
    },
    {
      "cell_type": "code",
      "execution_count": null,
      "metadata": {
        "id": "IMZTsWpWri1k"
      },
      "outputs": [],
      "source": [
        "# Calculamos la accuracy en test utilizando el mejor de los modelos anteriores\n",
        "test_accuracy = ???"
      ]
    },
    {
      "cell_type": "code",
      "execution_count": null,
      "metadata": {
        "id": "B_bJ0fEmri1k"
      },
      "outputs": [],
      "source": [
        "# Guardar modelo\n",
        "import pickle\n",
        "with open('../models/model.pickle', 'wb') as fw:\n",
        "    pickle.dump(model, fw)"
      ]
    },
    {
      "cell_type": "code",
      "execution_count": null,
      "metadata": {
        "id": "tWVDno84ri1l"
      },
      "outputs": [],
      "source": [
        "# Cargar modelo\n",
        "with open('../models/model.pickle', 'rb') as fr:\n",
        "    pickle.load(fr)"
      ]
    }
  ],
  "metadata": {
    "kernelspec": {
      "display_name": "Python 3",
      "language": "python",
      "name": "python3"
    },
    "language_info": {
      "codemirror_mode": {
        "name": "ipython",
        "version": 3
      },
      "file_extension": ".py",
      "mimetype": "text/x-python",
      "name": "python",
      "nbconvert_exporter": "python",
      "pygments_lexer": "ipython3",
      "version": "3.8.5"
    },
    "colab": {
      "provenance": []
    }
  },
  "nbformat": 4,
  "nbformat_minor": 0
}