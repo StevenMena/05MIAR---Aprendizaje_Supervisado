{
  "cells": [
    {
      "cell_type": "markdown",
      "metadata": {
        "id": "view-in-github",
        "colab_type": "text"
      },
      "source": [
        "<a href=\"https://colab.research.google.com/github/StevenMena/05MIAR---Aprendizaje_Supervisado/blob/main/Examen_C1_JGGP_Steven_Mena_Conv1.ipynb\" target=\"_parent\"><img src=\"https://colab.research.google.com/assets/colab-badge.svg\" alt=\"Open In Colab\"/></a>"
      ]
    },
    {
      "cell_type": "markdown",
      "metadata": {
        "id": "jF-sWJZpy6aW"
      },
      "source": [
        "### EXAMEN - Convocatoria 1 - Programación\n",
        "Utilizar el conjunto de datos \"dataset_exam.npy\" para resolver el ejercicio. Tener en cuenta que la última columna corresponde a la clase."
      ]
    },
    {
      "cell_type": "markdown",
      "metadata": {
        "id": "BYG8npg7y6ab"
      },
      "source": [
        "#### 1) Partición de datos externa (1 punto)\n",
        "Realizar una partición externa de tipo hold-out seleccionando un 20% de los datos para test (fijar una semilla en 42).\n",
        "Comprobad si los datos, tanto de train como de test, están más o menos balanceados."
      ]
    },
    {
      "cell_type": "code",
      "source": [
        "\n",
        "import numpy as np\n",
        "import matplotlib.pyplot as plt\n",
        "import seaborn as sns\n",
        "from sklearn.preprocessing import StandardScaler\n",
        "from sklearn.model_selection import train_test_split, KFold\n",
        "from sklearn.feature_selection import SelectPercentile, mutual_info_regression\n",
        "from sklearn.model_selection import GridSearchCV\n",
        "from sklearn.linear_model import LogisticRegression\n",
        "from sklearn.metrics import make_scorer, accuracy_score,  precision_score, recall_score, f1_score, roc_auc_score, confusion_matrix\n",
        "from sklearn.svm import SVC\n"
      ],
      "metadata": {
        "id": "jFghKWiE9gx2"
      },
      "execution_count": 34,
      "outputs": []
    },
    {
      "cell_type": "code",
      "execution_count": 13,
      "metadata": {
        "colab": {
          "base_uri": "https://localhost:8080/"
        },
        "id": "X1KTn-Bby6ac",
        "outputId": "95ee7cf3-bde1-4257-bfdc-f2778f3c09e8"
      },
      "outputs": [
        {
          "output_type": "stream",
          "name": "stdout",
          "text": [
            "Matriz de datos de Entrenamiento:  (393, 8)\n",
            "Matriz de datos de Test:  (99, 8)\n",
            "Test:  clases: [0. 1.]  ocurrencias:  [51 48]\n",
            "Entrenamiento:   clases: [0. 1.]   ocurrencias: [195 198]\n"
          ]
        }
      ],
      "source": [
        "#Validación externa\n",
        "\n",
        "data = np.load('dataset_exam.npy', allow_pickle=True)\n",
        "#display(data)\n",
        "\n",
        "X =  data[:,:-1]\n",
        "y = data[:,-1]\n",
        "\n",
        "X_train, X_test, y_train, y_test = train_test_split(X, y, test_size=0.2, random_state=42, shuffle=True)\n",
        "\n",
        "# Comprobación del balanceo de los datos\n",
        "print(\"Matriz de datos de Entrenamiento: \", np.shape(X_train))\n",
        "print(\"Matriz de datos de Test: \", np.shape(X_test))\n",
        "\n",
        "valores_test, ocur_test = np.unique(y_test, return_counts=True)\n",
        "print('Test: ', 'clases:', valores_test, ' ocurrencias: ', ocur_test)\n",
        "\n",
        "valores_train, ocur_train = np.unique(y_train, return_counts=True)\n",
        "print('Entrenamiento: ', ' clases:', valores_train, '  ocurrencias:', ocur_train)\n"
      ]
    },
    {
      "cell_type": "markdown",
      "metadata": {
        "id": "rLoU45eFy6ad"
      },
      "source": [
        "#### 2) Estandarización de los datos de train y test (1 punto)\n",
        "Utilizar el método StandardScaler()."
      ]
    },
    {
      "cell_type": "code",
      "execution_count": 25,
      "metadata": {
        "id": "VYI4pIp4y6ae"
      },
      "outputs": [],
      "source": [
        "standardizer = StandardScaler()\n",
        "X_train_std = standardizer.fit_transform(X_train)\n",
        "X_test_std = standardizer.transform(X_test)"
      ]
    },
    {
      "cell_type": "markdown",
      "metadata": {
        "id": "X7ugHOggy6ae"
      },
      "source": [
        "#### 3) Selección de atributos en train y test (1 punto)\n",
        "Aplicar el método de mutual information para clasificación seleccionando un percentile=90. (Recordad la función \"SelectPercentile\")"
      ]
    },
    {
      "cell_type": "code",
      "execution_count": 26,
      "metadata": {
        "id": "QcvvD08Ky6af"
      },
      "outputs": [],
      "source": [
        "# Definir objeto SelectPercentile\n",
        "selector = SelectPercentile(mutual_info_regression, percentile=90)\n",
        "\n",
        "# Ajustar objeto SelectPercentile a los datos de entrenamiento y transformar los datos\n",
        "X_train_selected = selector.fit_transform(X_train_std, y_train)\n",
        "X_test_selected = selector.transform(X_test_std)\n"
      ]
    },
    {
      "cell_type": "markdown",
      "metadata": {
        "id": "e5pHUfydy6af"
      },
      "source": [
        "#### 4) Comparación de modelos de clasificación mediante validación cruzada (3 puntos)\n",
        "Instrucciones:\n",
        "\n",
        "- Aplicar una validación cruzada interna de K=5 bolsas para optimizar y comparar la capacidad predictiva de los siguientes modelos: Regresión Logística y Support Vector Machine.\n",
        "- La optimización de hiperparámetros debe realizarse de manera automática. (Recordad la función \"GridSearchCV\").\n",
        "- La comparación debe realizarse únicamente en términos de exactitud proporcionando resultados de media +- desviación estándar."
      ]
    },
    {
      "cell_type": "code",
      "execution_count": 21,
      "metadata": {
        "id": "bUMqMuUVy6ag"
      },
      "outputs": [],
      "source": [
        "# Definir los modelos a comparar\n",
        "algs = {'Logistic Regression': LogisticRegression(max_iter=10000),\n",
        "          'Support Vector Machine': SVC()}\n",
        "\n",
        "# Definir los hiperparámetros a optimizar para cada modelo\n",
        "params = {'Logistic Regression': {'C': [0.1, 1, 10]},\n",
        "          'Support Vector Machine': {'C': [0.1, 1, 10], 'kernel': ['linear', 'rbf']}}"
      ]
    },
    {
      "cell_type": "code",
      "execution_count": 29,
      "metadata": {
        "colab": {
          "base_uri": "https://localhost:8080/"
        },
        "id": "FYdltq8cy6ag",
        "outputId": "f321bc8e-dee5-45c1-c489-632d9bacc34e"
      },
      "outputs": [
        {
          "output_type": "stream",
          "name": "stdout",
          "text": [
            "Algorithm: Logistic Regression\n",
            "Best parameters:  {'C': 1}\n",
            "Score: 0.6766 +/- 0.0538\n",
            "------------\n",
            "Algorithm: Support Vector Machine\n",
            "Best parameters:  {'C': 10, 'kernel': 'rbf'}\n",
            "Score: 0.8039 +/- 0.0376\n",
            "------------\n"
          ]
        }
      ],
      "source": [
        "model = {}\n",
        "for name, _ in algs.items():\n",
        "    print('Algorithm: ' + name)\n",
        "    score = make_scorer(accuracy_score)\n",
        "    model_cv = GridSearchCV(algs[name], params[name], scoring=score, cv=KFold(n_splits=5, shuffle=True, random_state=42), return_train_score=True)\n",
        "    model[name] = model_cv.fit(X_train_selected, y_train)\n",
        "    cv_res = model[name].cv_results_\n",
        "    print('Best parameters: ', model[name].best_params_)\n",
        "    best_iter = model[name].best_index_\n",
        "    print('Score: %0.4f +/- %0.4f' % (cv_res['mean_test_score'][best_iter], cv_res['std_test_score'][best_iter]))\n",
        "    print('------------')"
      ]
    },
    {
      "cell_type": "code",
      "execution_count": null,
      "metadata": {
        "id": "d2qHTWaUy6ag"
      },
      "outputs": [],
      "source": []
    },
    {
      "cell_type": "code",
      "execution_count": null,
      "metadata": {
        "id": "AUzfkJ9Uy6ag"
      },
      "outputs": [],
      "source": []
    },
    {
      "cell_type": "markdown",
      "metadata": {
        "id": "sdxkGwvey6ag"
      },
      "source": [
        "#### 5) Evaluación de los modelos sobre el conjunto de test (2.5 puntos)\n",
        "- Entrenar los modelos anteriores utilizando todos los datos de entrenamiento.\n",
        "- Evaluar su rendimiento sobre el conjunto de test mostrando una tabla de resultados tal que:\n",
        " * Las filas serán: Precisión, Sensibilidad, F-score, Exactitud y AUC\n",
        " * Las columnas serán: LOGR y SVM"
      ]
    },
    {
      "cell_type": "code",
      "execution_count": 35,
      "metadata": {
        "colab": {
          "base_uri": "https://localhost:8080/"
        },
        "id": "U3AMvkAOy6ah",
        "outputId": "a6c4a1a0-d8fd-4b63-d0a0-615c664c6818"
      },
      "outputs": [
        {
          "output_type": "stream",
          "name": "stdout",
          "text": [
            "      Precision  Sensibilidad   F-score  Exactitud       AUC\n",
            "LOGR   0.614035      0.729167  0.666667   0.646465  0.648897\n",
            "SVM    0.638298      0.625000  0.631579   0.646465  0.645833\n"
          ]
        }
      ],
      "source": [
        "# Entrenamiento de los modelos con todos los datos de entrenamiento, \n",
        "#La selección de atributos no se toma en cuenta pero si su estandarización\n",
        "logreg = LogisticRegression(C=1, max_iter=1000, penalty='l2', solver='liblinear')\n",
        "logreg.fit(X_train_std, y_train)\n",
        "\n",
        "svm = SVC(C=1, kernel='rbf')\n",
        "svm.fit(X_train_std, y_train)\n",
        "\n",
        "# Evaluación de los modelos en el conjunto de test\n",
        "models = {'LOGR': logreg, 'SVM': svm}\n",
        "metrics = {'Precision': precision_score, 'Sensibilidad': recall_score,\n",
        "           'F-score': f1_score, 'Exactitud': accuracy_score, 'AUC': roc_auc_score}\n",
        "results = {}\n",
        "\n",
        "#Predecir sobre los datos de test estandarizados\n",
        "for model_name, model in models.items():\n",
        "    y_pred = model.predict(X_test_std)\n",
        "    result = []\n",
        "    for metric_name, metric in metrics.items():\n",
        "        score = metric(y_test, y_pred)\n",
        "        result.append(score)\n",
        "    results[model_name] = result\n",
        "\n",
        "# Impresión de los resultados\n",
        "import pandas as pd\n",
        "\n",
        "df_results = pd.DataFrame.from_dict(results, orient='index', columns=metrics.keys())\n",
        "print(df_results)"
      ]
    },
    {
      "cell_type": "markdown",
      "metadata": {
        "id": "aWEiQmmzy6ah"
      },
      "source": [
        "#### 6) Visualización de resultados (1 punto)\n",
        "- Mostrar la matriz de confusión\n",
        "- Mostrar en una única figura la comparación de las curvas ROC obtenidas por cada modelo. (Recordad que SVM requiere un parámetro específico en su llamada para poder calcular la curva ROC). "
      ]
    },
    {
      "cell_type": "code",
      "execution_count": 36,
      "metadata": {
        "colab": {
          "base_uri": "https://localhost:8080/",
          "height": 851
        },
        "id": "8lTk7gc5y6ah",
        "outputId": "e2b41e64-f418-4548-95a8-66370e2e3ffa"
      },
      "outputs": [
        {
          "output_type": "display_data",
          "data": {
            "text/plain": [
              "<Figure size 432x288 with 2 Axes>"
            ],
            "image/png": "[encoded data removed]"
          },
          "metadata": {
            "needs_background": "light"
          }
        },
        {
          "output_type": "display_data",
          "data": {
            "text/plain": [
              "<Figure size 432x288 with 2 Axes>"
            ],
            "image/png": "[encoded data removed]"
          },
          "metadata": {
            "needs_background": "light"
          }
        },
        {
          "output_type": "display_data",
          "data": {
            "text/plain": [
              "<Figure size 432x288 with 1 Axes>"
            ],
            "image/png": "[encoded data removed]"
          },
          "metadata": {
            "needs_background": "light"
          }
        }
      ],
      "source": [
        "for model_name, model in models.items():\n",
        "    y_pred = model.predict(X_test)\n",
        "    cm = confusion_matrix(y_test, y_pred)\n",
        "    sns.heatmap(cm, annot=True, cmap='Blues', fmt='g')\n",
        "    plt.title(f'Matriz de confusión - {model_name}')\n",
        "    plt.xlabel('Predicción')\n",
        "    plt.ylabel('Valor real')\n",
        "    plt.show()\n",
        "\n",
        "\n",
        "from sklearn.metrics import roc_curve\n",
        "import matplotlib.pyplot as plt\n",
        "\n",
        "fpr_logreg, tpr_logreg, _ = roc_curve(y_test, logreg.predict_proba(X_test)[:, 1])\n",
        "fpr_svm, tpr_svm, _ = roc_curve(y_test, svm.decision_function(X_test))\n",
        "\n",
        "plt.plot(fpr_logreg, tpr_logreg, label='Logistic Regression')\n",
        "plt.plot(fpr_svm, tpr_svm, label='Support Vector Machine')\n",
        "plt.plot([0, 1], [0, 1], '--', color='gray', label='Aleatorio')\n",
        "plt.title('Curvas ROC')\n",
        "plt.xlabel('Tasa de falsos positivos')\n",
        "plt.ylabel('Tasa de verdaderos positivos')\n",
        "plt.legend()\n",
        "plt.show()"
      ]
    },
    {
      "cell_type": "markdown",
      "metadata": {
        "id": "k_fZEM2my6ai"
      },
      "source": [
        "#### 7) Interpretación de resultados (0.5 puntos)\n",
        "* Justifica brevemente cuál de los dos modelos utilizarías para ponerlo en producción\n",
        "\n",
        "pondría en produción SVM sus métricas son mejores"
      ]
    },
    {
      "cell_type": "markdown",
      "metadata": {
        "id": "ClDv093Cy6ai"
      },
      "source": [
        "Para decidir que modelo usar, debo tener en cuenta varias métricas. En este caso, se han evaluado los modelos utilizando diferentes métricas, como la precisión, sensibilidad, F-score, exactitud y AUC. Al observar los resultados obtenidos por cada modelo en estas métricas, se concluye que el modelo de Regresión Logística (LOGR) tiene un mejor rendimiento general en comparación con el modelo (SVM).\n",
        "\n",
        "El modelo LOGR obtuvo una precisión, sensibilidad y F-score ligeramente superiores al modelo SVM, lo que sugiere que es mejor para clasificar de manera más efectiva. Además, el modelo LOGR obtuvo una exactitud ligeramente mayor que el modelo SVM. Por último, el modelo LOGR también tiene una AUC superior en comparación con el modelo SVM.\n",
        "\n",
        "Por lo tanto, en general, se recomienda utilizar el modelo LOGR en producción debido a su mejor rendimiento en las métricas evaluadas."
      ]
    },
    {
      "cell_type": "code",
      "execution_count": null,
      "metadata": {
        "id": "q0jV_53Yy6ai"
      },
      "outputs": [],
      "source": []
    }
  ],
  "metadata": {
    "hide_input": false,
    "kernelspec": {
      "display_name": "Python 3 (ipykernel)",
      "language": "python",
      "name": "python3"
    },
    "language_info": {
      "codemirror_mode": {
        "name": "ipython",
        "version": 3
      },
      "file_extension": ".py",
      "mimetype": "text/x-python",
      "name": "python",
      "nbconvert_exporter": "python",
      "pygments_lexer": "ipython3",
      "version": "3.9.13"
    },
    "colab": {
      "provenance": [],
      "include_colab_link": true
    }
  },
  "nbformat": 4,
  "nbformat_minor": 0
}