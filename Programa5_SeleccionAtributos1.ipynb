{
  "cells": [
    {
      "cell_type": "markdown",
      "metadata": {
        "id": "view-in-github",
        "colab_type": "text"
      },
      "source": [
        "<a href=\"https://colab.research.google.com/github/StevenMena/05MIAR---Aprendizaje_Supervisado/blob/main/Programa5_SeleccionAtributos1.ipynb\" target=\"_parent\"><img src=\"https://colab.research.google.com/assets/colab-badge.svg\" alt=\"Open In Colab\"/></a>"
      ]
    },
    {
      "cell_type": "code",
      "execution_count": 3,
      "metadata": {
        "id": "IAwR4e-76Be9"
      },
      "outputs": [],
      "source": [
        "# Selección de atributos no supervisada mediante eliminación por baja varianza.\n",
        "import numpy as np\n",
        "from sklearn.feature_selection import VarianceThreshold"
      ]
    },
    {
      "cell_type": "code",
      "execution_count": 4,
      "metadata": {
        "colab": {
          "base_uri": "https://localhost:8080/"
        },
        "id": "byKoIJ0G6BfD",
        "outputId": "7d41d497-b2de-4de6-a5ab-dbdf5ee4b434"
      },
      "outputs": [
        {
          "output_type": "stream",
          "name": "stdout",
          "text": [
            "(6, 3)\n",
            "[[0 0 1]\n",
            " [0 1 0]\n",
            " [1 0 0]\n",
            " [0 1 1]\n",
            " [0 1 0]\n",
            " [0 1 1]]\n"
          ]
        }
      ],
      "source": [
        "# Carga de datos.\n",
        "X = [[0, 0, 1], [0, 1, 0], [1, 0, 0],\n",
        "     [0, 1, 1], [0, 1, 0], [0, 1, 1]]\n",
        "print(np.shape(X))\n",
        "print(np.array(X))"
      ]
    },
    {
      "cell_type": "code",
      "execution_count": null,
      "metadata": {
        "id": "0516uU6w6BfG"
      },
      "outputs": [],
      "source": [
        "# Limpieza de datos: selección de atributos.\n",
        "\n",
        "# fijamos un umbral (th) para decidir qué porcentaje mínimo deben variar los valores de una columna para considerarse \n",
        "# una columna relevante a la hora de mantenerla en nuestro estudio\n",
        "# El umbral utilizado en este ejemplo es 0,8, el cual deja pasar un atributo si varía al menos un 20 % a través de las instancias\n",
        "# No se cumple ya que en este caso la columna 0 solo varia un 16%\n",
        "th = 0.2\n",
        "sel = VarianceThreshold(th)\n",
        "print(sel.fit_transform(X))"
      ]
    }
  ],
  "metadata": {
    "kernelspec": {
      "display_name": "Python 3",
      "language": "python",
      "name": "python3"
    },
    "language_info": {
      "codemirror_mode": {
        "name": "ipython",
        "version": 3
      },
      "file_extension": ".py",
      "mimetype": "text/x-python",
      "name": "python",
      "nbconvert_exporter": "python",
      "pygments_lexer": "ipython3",
      "version": "3.8.5"
    },
    "colab": {
      "provenance": [],
      "include_colab_link": true
    }
  },
  "nbformat": 4,
  "nbformat_minor": 0
}