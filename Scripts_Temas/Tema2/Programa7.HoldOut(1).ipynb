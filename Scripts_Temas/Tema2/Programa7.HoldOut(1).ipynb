{
  "cells": [
    {
      "cell_type": "code",
      "execution_count": 1,
      "metadata": {
        "id": "u-YRsx7uri1V"
      },
      "outputs": [],
      "source": [
        "import numpy as np\n",
        "from sklearn import datasets\n",
        "from sklearn.dummy import DummyClassifier\n",
        "from sklearn.model_selection import train_test_split\n",
        "from sklearn.preprocessing import StandardScaler"
      ]
    },
    {
      "cell_type": "code",
      "execution_count": 2,
      "metadata": {
        "colab": {
          "base_uri": "https://localhost:8080/"
        },
        "id": "l5swknV3ri1b",
        "outputId": "14c5ebb2-b3d9-4591-ae1c-1c7b167884a8"
      },
      "outputs": [
        {
          "output_type": "stream",
          "name": "stdout",
          "text": [
            "['setosa' 'versicolor' 'virginica']\n"
          ]
        }
      ],
      "source": [
        "# Carga de datos\n",
        "iris = datasets.load_iris()\n",
        "print(iris.target_names)"
      ]
    },
    {
      "cell_type": "code",
      "execution_count": 3,
      "metadata": {
        "colab": {
          "base_uri": "https://localhost:8080/"
        },
        "id": "zwxLTiFzri1c",
        "outputId": "6fb3ca58-0509-4c71-db33-772bcc483be1"
      },
      "outputs": [
        {
          "output_type": "stream",
          "name": "stdout",
          "text": [
            "Tabla de datos: 150 instancias y 4 atributos\n",
            "Valores de la clase: {0, 1, 2}\n",
            "[0 1 2] [50 50 50]\n"
          ]
        }
      ],
      "source": [
        "# Mostrar características de la tabla de datos.\n",
        "print(\"Tabla de datos: %d instancias y %d atributos\" % (iris.data.shape[0], iris.data.shape[1]))\n",
        "print(\"Valores de la clase:\", set(iris.target))\n",
        "\n",
        "# Cuantificamos el número de instancias que contiene el dataset por clase\n",
        "valores, ocurrencias = np.unique(iris.target, return_counts=True)\n",
        "print(valores, ocurrencias)"
      ]
    },
    {
      "cell_type": "code",
      "execution_count": 6,
      "metadata": {
        "colab": {
          "base_uri": "https://localhost:8080/"
        },
        "id": "0HQtnM1dri1d",
        "outputId": "1e794c60-9ebf-40b2-c8ef-7267f53861d5"
      },
      "outputs": [
        {
          "output_type": "stream",
          "name": "stdout",
          "text": [
            "Test:  clases: [0 1 2]  ocurrencias:  [10  9 11]\n"
          ]
        }
      ],
      "source": [
        "# Test: hold-out split 80-20%. # Partición externa = Training + Test\n",
        "#el 0.2 en test_size es el valor que tendra ese conjunto de datos para test\n",
        "#el shuffle por defecto es true, pero este atributo determina si la selecciones de las instancias de la matriz se realiza de manera aleatoria o no\n",
        "#Si es false escoge el 80% y 20% de la manera como esten ordenados los datos.\n",
        "#el random_state es la semilla del algoritmo de aleatoriedad\n",
        "X_training, X_test, y_training, y_test = train_test_split(iris.data, iris.target, test_size=0.2,shuffle=True, random_state=42)\n",
        "#valores y ocurrencias de la clase en la partición de test\n",
        "valores_test, ocur_test = np.unique(y_test, return_counts=True)\n",
        "print('Test: ', 'clases:', valores_test, ' ocurrencias: ', ocur_test)"
      ]
    },
    {
      "cell_type": "code",
      "execution_count": 7,
      "metadata": {
        "id": "Om3wh8puri1d"
      },
      "outputs": [],
      "source": [
        "# Estandarizar las características de entrenamiento y de test\n",
        "standardizer = StandardScaler()\n",
        "X_training = standardizer.fit_transform(X_training)\n",
        "#el fit ya fue definido en el conjunto de datos de training\n",
        "#Se debe utilizar el mismo proceso de entrenamiento para el conjunto de datos de test\n",
        "X_test = standardizer.transform(X_test)"
      ]
    },
    {
      "cell_type": "code",
      "execution_count": 8,
      "metadata": {
        "colab": {
          "base_uri": "https://localhost:8080/"
        },
        "id": "nulLpVQFri1e",
        "outputId": "d10c90f5-2057-4b33-9f64-b2c8528f2dce"
      },
      "outputs": [
        {
          "output_type": "stream",
          "name": "stdout",
          "text": [
            "Entrenamiento:   clases: [0 1 2]   ocurrencias: [32 30 34]\n",
            "Validation:      clases: [0 1 2]   ocurrencias: [ 8 11  5]\n"
          ]
        }
      ],
      "source": [
        "# Validación: hold-out split 80-20%. # Partición interna - Del conjunto de datos del training se obtiene el cojunto de validación.\n",
        "X_train, X_val, y_train, y_val = train_test_split(X_training, y_training, test_size=0.2, random_state=42)\n",
        "valores_train, ocur_train = np.unique(y_train, return_counts=True)\n",
        "print('Entrenamiento: ', ' clases:', valores_train, '  ocurrencias:', ocur_train)\n",
        "\n",
        "valores_val, ocur_val = np.unique(y_val, return_counts=True)\n",
        "print('Validation:    ', ' clases:', valores_val, '  ocurrencias:', ocur_val)"
      ]
    },
    {
      "cell_type": "code",
      "execution_count": 9,
      "metadata": {
        "id": "OMwYcCnUri1f"
      },
      "outputs": [],
      "source": [
        "# Construcción del objeto que contiene el algoritmo de aprendizaje.\n",
        "clf = DummyClassifier(strategy='prior', random_state=42)"
      ]
    },
    {
      "cell_type": "code",
      "execution_count": 10,
      "metadata": {
        "id": "dvD62lqXri1g"
      },
      "outputs": [],
      "source": [
        "# Entrenamiento del algoritmo de aprendizaje.\n",
        "#Le paso el conjunto de datos de atributos y sus respectivas clases\n",
        "clf = clf.fit(X_train, y_train)"
      ]
    },
    {
      "cell_type": "code",
      "execution_count": 11,
      "metadata": {
        "colab": {
          "base_uri": "https://localhost:8080/"
        },
        "id": "PBKZMbuxri1g",
        "outputId": "f9b3d563-b732-4fa9-999a-855901d8524e"
      },
      "outputs": [
        {
          "output_type": "stream",
          "name": "stdout",
          "text": [
            "Exactitud en validación:  0.20833333333333334\n",
            "Exactitud en test:  0.36666666666666664\n"
          ]
        }
      ],
      "source": [
        "# Evaluación del algoritmo de aprendizaje con el método \"score\" que devuelve directamente la métrica de 'accuracy'\n",
        "val_accuracy = clf.score(X_val, y_val)\n",
        "print(\"Exactitud en validación: \", val_accuracy)\n",
        "\n",
        "test_accuracy = clf.score(X_test, y_test)\n",
        "print(\"Exactitud en test: \", test_accuracy)"
      ]
    },
    {
      "cell_type": "code",
      "execution_count": 12,
      "metadata": {
        "colab": {
          "base_uri": "https://localhost:8080/"
        },
        "id": "jtJYmkizri1h",
        "outputId": "64bec9ec-d34d-45ba-bffc-53c9af00c792"
      },
      "outputs": [
        {
          "output_type": "stream",
          "name": "stdout",
          "text": [
            "Predicciones de validación  [2 2 2 2 2 2 2 2 2 2 2 2 2 2 2 2 2 2 2 2 2 2 2 2]\n",
            "Etiquetas reales validación [1 1 0 0 0 2 1 2 2 2 1 1 1 1 1 0 2 0 1 0 1 1 0 0]\n",
            "\n",
            "Predicciones de test  [2 2 2 2 2 2 2 2 2 2 2 2 2 2 2 2 2 2 2 2 2 2 2 2]\n",
            "Etiquetas reales test [1 1 0 0 0 2 1 2 2 2 1 1 1 1 1 0 2 0 1 0 1 1 0 0]\n"
          ]
        }
      ],
      "source": [
        "# Obtenemos las predicciones sobre conjunto de validación y de test\n",
        "y_pred_val = clf.predict(X_val)\n",
        "print('Predicciones de validación ', y_pred_val)\n",
        "print('Etiquetas reales validación', y_val)\n",
        "\n",
        "y_pred_test = clf.predict(X_test)\n",
        "print('\\nPredicciones de test ', y_pred_val)\n",
        "print('Etiquetas reales test', y_val)"
      ]
    },
    {
      "cell_type": "code",
      "execution_count": 16,
      "metadata": {
        "colab": {
          "base_uri": "https://localhost:8080/"
        },
        "id": "by3TJue_ri1i",
        "outputId": "adf1f40f-2ae3-4636-e5fd-c8b38585a2b7"
      },
      "outputs": [
        {
          "output_type": "stream",
          "name": "stdout",
          "text": [
            "Exactitud en validación  100.0 %\n"
          ]
        }
      ],
      "source": [
        "# Aplicamos un ejemplo con un clasificador más complejo que el \"dummyclassifier\"\n",
        "from sklearn.svm import SVC\n",
        "\n",
        "# Definimos algoritmo super vector machine\n",
        "svc = SVC(C=0.1, gamma='auto')\n",
        "\n",
        "# Entrenamos modelo, pasamos como parámetros los atributos y su clase correspondiente\n",
        "clf = svc.fit(X_train,y_train)\n",
        "\n",
        "# Calculamos la accuracy sobre el conjunto de validación y volvemos a parametrizar para mejorar los resultados \n",
        "val_accuracy = clf.score(X_val, y_val)\n",
        "print('Exactitud en validación ', np.round(val_accuracy*100, 4), '%')"
      ]
    },
    {
      "cell_type": "code",
      "source": [
        "#Como comprobamos que la validación de mi entrenamiento tiene una exactitud muy buena ahora\n",
        "#lo que hacemos es que entrenamos el modelo para todos los datos de entrenamiento X_traing y X_val\n",
        "svc_2 = svc.fit(X_training,y_training)"
      ],
      "metadata": {
        "id": "zc0ntLOq3DJr"
      },
      "execution_count": 17,
      "outputs": []
    },
    {
      "cell_type": "code",
      "execution_count": 18,
      "metadata": {
        "colab": {
          "base_uri": "https://localhost:8080/"
        },
        "id": "IMZTsWpWri1k",
        "outputId": "75a54b2f-6bf9-4bcb-f3b3-166f4f48b6ec"
      },
      "outputs": [
        {
          "output_type": "stream",
          "name": "stdout",
          "text": [
            "Exactitud en test  96.6667 %\n"
          ]
        }
      ],
      "source": [
        "# Calculamos la accuracy en test utilizando el mejor de los modelos anteriores\n",
        "test_accuracy = svc_2.score(X_test,y_test)\n",
        "print('Exactitud en test ', np.round(test_accuracy*100, 4), '%')"
      ]
    },
    {
      "cell_type": "code",
      "execution_count": null,
      "metadata": {
        "id": "B_bJ0fEmri1k"
      },
      "outputs": [],
      "source": [
        "# Guardar modelo con la librería pickle\n",
        "import pickle\n",
        "with open('../models/model.pickle', 'wb') as fw:\n",
        "    pickle.dump(model, fw)"
      ]
    },
    {
      "cell_type": "code",
      "execution_count": null,
      "metadata": {
        "id": "tWVDno84ri1l"
      },
      "outputs": [],
      "source": [
        "# Cargar modelo\n",
        "with open('../models/model.pickle', 'rb') as fr:\n",
        "    pickle.load(fr)"
      ]
    }
  ],
  "metadata": {
    "kernelspec": {
      "display_name": "Python 3",
      "language": "python",
      "name": "python3"
    },
    "language_info": {
      "codemirror_mode": {
        "name": "ipython",
        "version": 3
      },
      "file_extension": ".py",
      "mimetype": "text/x-python",
      "name": "python",
      "nbconvert_exporter": "python",
      "pygments_lexer": "ipython3",
      "version": "3.8.5"
    },
    "colab": {
      "provenance": []
    }
  },
  "nbformat": 4,
  "nbformat_minor": 0
}