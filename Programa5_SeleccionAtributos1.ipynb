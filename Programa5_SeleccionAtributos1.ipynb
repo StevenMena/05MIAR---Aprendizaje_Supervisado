{
  "cells": [
    {
      "cell_type": "markdown",
      "metadata": {
        "id": "view-in-github",
        "colab_type": "text"
      },
      "source": [
        "<a href=\"https://colab.research.google.com/github/StevenMena/05MIAR---Aprendizaje_Supervisado/blob/main/Programa5_SeleccionAtributos1.ipynb\" target=\"_parent\"><img src=\"https://colab.research.google.com/assets/colab-badge.svg\" alt=\"Open In Colab\"/></a>"
      ]
    },
    {
      "cell_type": "code",
      "execution_count": null,
      "metadata": {
        "id": "IAwR4e-76Be9"
      },
      "outputs": [],
      "source": [
        "import numpy as np\n",
        "from sklearn.feature_selection import VarianceThreshold"
      ]
    },
    {
      "cell_type": "code",
      "execution_count": null,
      "metadata": {
        "id": "byKoIJ0G6BfD"
      },
      "outputs": [],
      "source": [
        "# Carga de datos.\n",
        "X = [[0, 0, 1], [0, 1, 0], [1, 0, 0],\n",
        "     [0, 1, 1], [0, 1, 0], [0, 1, 1]]\n",
        "print(X)"
      ]
    },
    {
      "cell_type": "code",
      "execution_count": null,
      "metadata": {
        "id": "0516uU6w6BfG"
      },
      "outputs": [],
      "source": [
        "# Limpieza de datos: selección de atributos.\n",
        "\n",
        "# fijamos un umbral (th) para decidir qué porcentaje mínimo deben variar los valores de una columna para considerarse \n",
        "# una columna relevante a la hora de mantenerla en nuestro estudio\n",
        "th = 0.2\n",
        "sel = VarianceThreshold(th)\n",
        "print(sel.fit_transform(X))"
      ]
    }
  ],
  "metadata": {
    "kernelspec": {
      "display_name": "Python 3",
      "language": "python",
      "name": "python3"
    },
    "language_info": {
      "codemirror_mode": {
        "name": "ipython",
        "version": 3
      },
      "file_extension": ".py",
      "mimetype": "text/x-python",
      "name": "python",
      "nbconvert_exporter": "python",
      "pygments_lexer": "ipython3",
      "version": "3.8.5"
    },
    "colab": {
      "provenance": [],
      "include_colab_link": true
    }
  },
  "nbformat": 4,
  "nbformat_minor": 0
}