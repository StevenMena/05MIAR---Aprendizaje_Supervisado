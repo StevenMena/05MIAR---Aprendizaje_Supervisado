{
 "cells": [
  {
   "cell_type": "code",
   "execution_count": null,
   "metadata": {},
   "outputs": [],
   "source": [
    "import numpy as np\n",
    "import pandas as pd\n",
    "from sklearn.dummy import DummyClassifier\n",
    "from sklearn.model_selection import cross_val_score\n",
    "from sklearn.model_selection import KFold\n",
    "from sklearn.model_selection import train_test_split"
   ]
  },
  {
   "cell_type": "code",
   "execution_count": null,
   "metadata": {},
   "outputs": [],
   "source": [
    "# Carga de datos.\n",
    "csv = ???\n",
    "print(csv.head())"
   ]
  },
  {
   "cell_type": "code",
   "execution_count": null,
   "metadata": {},
   "outputs": [],
   "source": [
    "# Convertir dataframe en numpy array\n",
    "data = np.array(csv)\n",
    "X = ???\n",
    "y = ???"
   ]
  },
  {
   "cell_type": "code",
   "execution_count": null,
   "metadata": {},
   "outputs": [],
   "source": [
    "# Mostrar características de la tabla de datos.\n",
    "print(\"Tabla de datos: %d instancias y %d atributos\" % (X.shape[0], X.shape[1]))\n",
    "print(\"Valores de la clase:\", set(y))"
   ]
  },
  {
   "cell_type": "code",
   "execution_count": null,
   "metadata": {},
   "outputs": [],
   "source": [
    "# Test: hold-out split 80-20%. PARTICIÓN EXTERNA\n",
    "X_train, X_test, y_train, y_test = ???\n",
    "\n",
    "valores_test, ocur_test = np.unique(y_test, return_counts=True)\n",
    "print('Test: ', 'clases:', valores_test, ' ocurrencias: ', ocur_test)\n",
    "\n",
    "valores_train, ocur_train = np.unique(y_train, return_counts=True)\n",
    "print('Entrenamiento: ', ' clases:', valores_train, '  ocurrencias:', ocur_train)"
   ]
  },
  {
   "cell_type": "code",
   "execution_count": null,
   "metadata": {},
   "outputs": [],
   "source": [
    "# Estandarizar las características de entrenamiento y de test\n",
    "standardizer = StandardScaler()\n",
    "X_train = standardizer.fit_transform(X_train)\n",
    "X_test = standardizer.transform(X_test)"
   ]
  },
  {
   "cell_type": "code",
   "execution_count": null,
   "metadata": {},
   "outputs": [],
   "source": [
    "# Hacemos el cross-validation interno para seleccionar los mejores hiperparámetros\n",
    "from sklearn.svm import SVC\n",
    "svc = SVC(C=1, gamma='scale', kernel='rbf')\n",
    "results = cross_val_score(svc, X_train, y_train, cv = KFold(n_splits=5, shuffle=True, random_state=42))\n",
    "print(\"Resultados por bolsa: \", results)\n",
    "print(\"Accuracy (media +/- desv.): %0.4f +/- %0.4f\" % (results.mean(), results.std()))"
   ]
  },
  {
   "cell_type": "code",
   "execution_count": null,
   "metadata": {},
   "outputs": [],
   "source": [
    "# Una vez entrenado y validado el modelo para seleccionar los mejores hyperparameters, utilizamos todos los datos de \n",
    "# \"train\" y \"val\" para entrenar el modelo definitivo\n",
    "\n",
    "# svc = ???\n"
   ]
  },
  {
   "cell_type": "code",
   "execution_count": null,
   "metadata": {},
   "outputs": [],
   "source": [
    "# Calcular la accuracy del conjunto de test\n",
    "# test_results = ???\n",
    "print('Exactitud en test: ', test_results*100, '%')"
   ]
  },
  {
   "cell_type": "code",
   "execution_count": null,
   "metadata": {},
   "outputs": [],
   "source": [
    "# Extraer las predicciones, en lugar de directamente la accuracy\n",
    "# y_pred = ???\n",
    "print('Predicciones:     ', y_pred)\n",
    "print('Etiquetas reales: ', y_test)"
   ]
  }
 ],
 "metadata": {
  "kernelspec": {
   "display_name": "Python 3",
   "language": "python",
   "name": "python3"
  },
  "language_info": {
   "codemirror_mode": {
    "name": "ipython",
    "version": 3
   },
   "file_extension": ".py",
   "mimetype": "text/x-python",
   "name": "python",
   "nbconvert_exporter": "python",
   "pygments_lexer": "ipython3",
   "version": "3.8.5"
  }
 },
 "nbformat": 4,
 "nbformat_minor": 2
}
