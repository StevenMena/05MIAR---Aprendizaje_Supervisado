{
  "cells": [
    {
      "cell_type": "code",
      "execution_count": 1,
      "metadata": {
        "id": "c6KQ9r1cvvx6"
      },
      "outputs": [],
      "source": [
        "import numpy as np\n",
        "from sklearn.feature_selection import VarianceThreshold"
      ]
    },
    {
      "cell_type": "code",
      "execution_count": 2,
      "metadata": {
        "id": "Wj7OD51nvvyA",
        "outputId": "800b193c-492e-436f-ab6d-166ac48f35c0",
        "colab": {
          "base_uri": "https://localhost:8080/"
        }
      },
      "outputs": [
        {
          "output_type": "stream",
          "name": "stdout",
          "text": [
            "[[0, 0, 1], [0, 1, 0], [1, 0, 0], [0, 1, 1], [0, 1, 0], [0, 1, 1]]\n"
          ]
        }
      ],
      "source": [
        "# Carga de datos.\n",
        "X = [[0, 0, 1], [0, 1, 0], [1, 0, 0],\n",
        "     [0, 1, 1], [0, 1, 0], [0, 1, 1]]\n",
        "print(X)"
      ]
    },
    {
      "cell_type": "code",
      "execution_count": 3,
      "metadata": {
        "id": "8yEyFab2vvyD",
        "outputId": "6482063f-638f-4f26-e99f-0d039e884f12",
        "colab": {
          "base_uri": "https://localhost:8080/"
        }
      },
      "outputs": [
        {
          "output_type": "stream",
          "name": "stdout",
          "text": [
            "[[0 1]\n",
            " [1 0]\n",
            " [0 0]\n",
            " [1 1]\n",
            " [1 0]\n",
            " [1 1]]\n"
          ]
        }
      ],
      "source": [
        "# Limpieza de datos: selección de atributos.\n",
        "\n",
        "# fijamos un umbral (th) para decidir qué porcentaje mínimo deben variar los valores de una columna para considerarse \n",
        "# una columna relevante a la hora de mantenerla en nuestro estudio\n",
        "#El umbral utilizado en este ejemplo es 0,8, el cual deja\n",
        "#pasar un atributo si varía al menos un 20 % a través de las instancias.\n",
        "th = 0.2\n",
        "sel = VarianceThreshold(th)\n",
        "print(sel.fit_transform(X))"
      ]
    }
  ],
  "metadata": {
    "kernelspec": {
      "display_name": "Python 3",
      "language": "python",
      "name": "python3"
    },
    "language_info": {
      "codemirror_mode": {
        "name": "ipython",
        "version": 3
      },
      "file_extension": ".py",
      "mimetype": "text/x-python",
      "name": "python",
      "nbconvert_exporter": "python",
      "pygments_lexer": "ipython3",
      "version": "3.8.5"
    },
    "colab": {
      "provenance": []
    }
  },
  "nbformat": 4,
  "nbformat_minor": 0
}