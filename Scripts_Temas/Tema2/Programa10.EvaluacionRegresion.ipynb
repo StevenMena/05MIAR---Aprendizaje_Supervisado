{
  "cells": [
    {
      "cell_type": "code",
      "execution_count": 46,
      "metadata": {
        "id": "UkGxq0S2sTZq"
      },
      "outputs": [],
      "source": [
        "import numpy as np\n",
        "import pandas as pd\n",
        "from math import sqrt\n",
        "from pprint import pprint\n",
        "from sklearn import datasets\n",
        "from sklearn.dummy import DummyRegressor\n",
        "from sklearn.model_selection import cross_validate\n",
        "from sklearn.model_selection import KFold\n",
        "from sklearn.metrics import make_scorer\n",
        "from sklearn.metrics import mean_squared_error\n",
        "from sklearn.model_selection import train_test_split\n",
        "from sklearn.svm import SVR\n",
        "from sklearn.metrics import mean_absolute_error, r2_score\n",
        "import matplotlib.pyplot as plt\n",
        "from sklearn import preprocessing"
      ]
    },
    {
      "cell_type": "code",
      "execution_count": 13,
      "metadata": {
        "id": "y8fS6sfasTZu",
        "outputId": "588be535-b73d-49ea-c634-34432586a032",
        "colab": {
          "base_uri": "https://localhost:8080/"
        }
      },
      "outputs": [
        {
          "output_type": "stream",
          "name": "stdout",
          "text": [
            "array([[6.3200e-03, 1.8000e+01, 2.3100e+00, ..., 1.5300e+01, 3.9690e+02,\n",
            "        4.9800e+00],\n",
            "       [2.7310e-02, 0.0000e+00, 7.0700e+00, ..., 1.7800e+01, 3.9690e+02,\n",
            "        9.1400e+00],\n",
            "       [2.7290e-02, 0.0000e+00, 7.0700e+00, ..., 1.7800e+01, 3.9283e+02,\n",
            "        4.0300e+00],\n",
            "       ...,\n",
            "       [6.0760e-02, 0.0000e+00, 1.1930e+01, ..., 2.1000e+01, 3.9690e+02,\n",
            "        5.6400e+00],\n",
            "       [1.0959e-01, 0.0000e+00, 1.1930e+01, ..., 2.1000e+01, 3.9345e+02,\n",
            "        6.4800e+00],\n",
            "       [4.7410e-02, 0.0000e+00, 1.1930e+01, ..., 2.1000e+01, 3.9690e+02,\n",
            "        7.8800e+00]])\n",
            "(506, 13)\n",
            "(506,)\n"
          ]
        }
      ],
      "source": [
        "# Cargar y explorar los datos\n",
        "data_url = \"http://lib.stat.cmu.edu/datasets/boston\"\n",
        "raw_df = pd.read_csv(data_url, sep=\"\\s+\", skiprows=22, header=None)\n",
        "data = np.hstack([raw_df.values[::2, :], raw_df.values[1::2, :2]])\n",
        "target = raw_df.values[1::2, 2]\n",
        "#datos = datasets.load_boston()\n",
        "pprint(data)\n",
        "print(np.shape(data))\n",
        "print(np.shape(target))"
      ]
    },
    {
      "cell_type": "code",
      "execution_count": 14,
      "metadata": {
        "id": "UdjY8VY3sTZv"
      },
      "outputs": [],
      "source": [
        "# Extraer la matriz de datos \"X\" y la variable target \"y\"\n",
        "X = data\n",
        "y = target"
      ]
    },
    {
      "cell_type": "code",
      "execution_count": 16,
      "metadata": {
        "id": "sXioSp2csTZv",
        "outputId": "670cab2b-5d34-43cd-8cd2-78210cae5cac",
        "colab": {
          "base_uri": "https://localhost:8080/"
        }
      },
      "outputs": [
        {
          "output_type": "stream",
          "name": "stdout",
          "text": [
            "Train dimensions:  (404, 13)\n",
            "Test dimensions:   (102, 13)\n"
          ]
        }
      ],
      "source": [
        "# Partición EXTERNA: hold-out split 80% train - 20% test.\n",
        "X_train,X_test, y_train,y_test = train_test_split(X,y, test_size=0.2,shuffle=True,random_state=42)\n",
        "print('Train dimensions: ', np.shape(X_train))\n",
        "print('Test dimensions:  ', np.shape(X_test))"
      ]
    },
    {
      "cell_type": "code",
      "execution_count": 18,
      "metadata": {
        "id": "Nztsc_BnsTZw"
      },
      "outputs": [],
      "source": [
        "# Estandarización de los datos de entrenamiento y test\n",
        "standr = preprocessing.StandardScaler()\n",
        "\n",
        "X_train_std = standr.fit_transform(X_train)\n",
        "\n",
        "X_test_std = standr.transform(X_test)\n"
      ]
    },
    {
      "cell_type": "code",
      "execution_count": 19,
      "metadata": {
        "id": "j2JgEqllsTZx"
      },
      "outputs": [],
      "source": [
        "# Métricas de evaluación para problemas de regresión\n",
        "metricas = {\n",
        "  'MAE': 'neg_mean_absolute_error',\n",
        "  'RMSE': make_scorer(lambda y, y_pred:\n",
        "                      sqrt(mean_squared_error(y, y_pred)),\n",
        "                      greater_is_better=False),\n",
        "  'MAPE': make_scorer(lambda y, y_pred:\n",
        "                      np.mean(np.abs((y - y_pred) / y)) * 100,\n",
        "                      greater_is_better=False)}"
      ]
    },
    {
      "cell_type": "code",
      "execution_count": 41,
      "metadata": {
        "id": "mJ6oftPVsTZy"
      },
      "outputs": [],
      "source": [
        "# Definimos un algoritmo SVM de regresión\n",
        "#alg = SVR(C=100, gamma='auto', kernel='rbf')\n",
        "alg = SVR(C=10, gamma='scale', kernel='rbf')"
      ]
    },
    {
      "cell_type": "code",
      "execution_count": 42,
      "metadata": {
        "id": "u-raIJ4UsTZy"
      },
      "outputs": [],
      "source": [
        "# Validación y evaluación del modelo.\n",
        "# en \"cv = KFold(n_splits=5)\" se hace un cross-validation INTERNO!! \n",
        "#La diferencia entre cross validate y score es que con este se puede definir metricas que se desea, en el otro solo es el accuracy\n",
        "#este método realiza 4 cosas, la partición, entrenamiento, predicción y cálculo de métricas.\n",
        "results = cross_validate(alg, X_train, y_train, cv = KFold(n_splits=5, shuffle=True, random_state=42), scoring = metricas)"
      ]
    },
    {
      "cell_type": "code",
      "execution_count": 43,
      "metadata": {
        "id": "z1MGcAPzsTZz",
        "outputId": "3984f027-74f6-4329-cc20-db0915b5ed5d",
        "colab": {
          "base_uri": "https://localhost:8080/"
        }
      },
      "outputs": [
        {
          "output_type": "stream",
          "name": "stdout",
          "text": [
            "{'fit_time': array([0.01598597, 0.01328897, 0.01255322, 0.01395607, 0.0136795 ]),\n",
            " 'score_time': array([0.00408387, 0.00408149, 0.00464153, 0.00461626, 0.00450826]),\n",
            " 'test_MAE': array([-5.13976503, -5.63095763, -5.48071432, -5.9195339 , -4.35859537]),\n",
            " 'test_MAPE': array([-24.35163528, -22.77511941, -22.75271465, -23.17904956,\n",
            "       -21.8290829 ]),\n",
            " 'test_RMSE': array([-7.35502234, -8.83291393, -9.17195196, -8.92869424, -6.34069404])}\n"
          ]
        }
      ],
      "source": [
        "# Presentación de los resultados de la evaluación.\n",
        "pprint(results)\n",
        "#Da como resultado el tiempo de entrenamiento, el tiempo de predicción y los valores de las métricas por cada iteración\n"
      ]
    },
    {
      "cell_type": "code",
      "execution_count": 44,
      "metadata": {
        "id": "KieZWXJDsTZ0"
      },
      "outputs": [],
      "source": [
        "# Una vez hemos optimizado los hiperparámetros en el conjunto de validación, entrenamos un nuevo modelo que contenga\n",
        "# todos los datos de entrenamiento (es decir, train + validation) para evaluar el test\n",
        "model = SVR(C=10, gamma='scale', kernel='rbf')\n",
        "model = model.fit(X_train, y_train)"
      ]
    },
    {
      "cell_type": "code",
      "execution_count": 47,
      "metadata": {
        "id": "7Y6L-L83sTZ0",
        "outputId": "f346c517-3575-48bf-b869-c2bdff5fd8d1",
        "colab": {
          "base_uri": "https://localhost:8080/"
        }
      },
      "outputs": [
        {
          "output_type": "stream",
          "name": "stdout",
          "text": [
            "Test results (MAE):  4.0773\n",
            "Test results (r2):  0.3919\n",
            "Test results (MAE):  4.077331136511674\n"
          ]
        }
      ],
      "source": [
        "# Extraemos el error absoluto promedio (MAE) del conjunto de test\n",
        "y_pred = model.predict(X_test)\n",
        "mae = mean_absolute_error(y_test, y_pred)\n",
        "r2 = r2_score(y_test, y_pred)\n",
        "print('Test results (MAE): ', np.round(mae,4))\n",
        "print('Test results (r2): ', np.round(r2,4))"
      ]
    },
    {
      "cell_type": "code",
      "execution_count": 48,
      "metadata": {
        "id": "yYS9Lx9DsTZ1",
        "outputId": "d6b603db-09ac-4070-fb3b-1f2dcfa0fa7f",
        "colab": {
          "base_uri": "https://localhost:8080/"
        }
      },
      "outputs": [
        {
          "output_type": "stream",
          "name": "stdout",
          "text": [
            "Predicciones:    [22.  26.  15.6 24.5 16.1 20.1 21.  17.8 16.5 20.1]\n",
            "Valores reales:  [23.6 32.4 13.6 22.8 16.1 20.  17.8 14.  19.6 16.8]\n"
          ]
        }
      ],
      "source": [
        "# También podemos extraer las predicciones para cuánto difieren los valores predichos de los reales\n",
        "print('Predicciones:   ', np.round(y_pred[:10], 1))\n",
        "print('Valores reales: ', y_test[:10])"
      ]
    },
    {
      "cell_type": "code",
      "execution_count": 49,
      "metadata": {
        "id": "KMYIel4GsTZ3"
      },
      "outputs": [],
      "source": [
        "# Grafica de realidad -vs- prediccion.\n",
        "def grafica_real_vs_pred(y_true, y_pred, metricas, algoritmo):\n",
        "    fig, ax = plt.subplots()\n",
        "    ax.scatter(y_true, y_pred, edgecolors=(0, 0, 0))\n",
        "    ax.plot([y_true.min(), y_true.max()], [y_true.min(), y_true.max()], 'k--', lw=4)\n",
        "    ax.set_xlabel('Valor real de la clase')\n",
        "    ax.set_ylabel('Predicción')\n",
        "    plt.show()"
      ]
    },
    {
      "cell_type": "code",
      "execution_count": 50,
      "metadata": {
        "id": "zYE_GzW6sTZ4",
        "outputId": "afefd3b1-3e12-435e-e651-1179d367fb06",
        "colab": {
          "base_uri": "https://localhost:8080/",
          "height": 279
        }
      },
      "outputs": [
        {
          "output_type": "display_data",
          "data": {
            "text/plain": [
              "<Figure size 432x288 with 1 Axes>"
            ],
            "image/png": "[encoded data removed]"
          },
          "metadata": {
            "needs_background": "light"
          }
        }
      ],
      "source": [
        "grafica_real_vs_pred(y_test, y_pred, metricas, model)"
      ]
    }
  ],
  "metadata": {
    "kernelspec": {
      "display_name": "Python 3",
      "language": "python",
      "name": "python3"
    },
    "language_info": {
      "codemirror_mode": {
        "name": "ipython",
        "version": 3
      },
      "file_extension": ".py",
      "mimetype": "text/x-python",
      "name": "python",
      "nbconvert_exporter": "python",
      "pygments_lexer": "ipython3",
      "version": "3.8.5"
    },
    "colab": {
      "provenance": []
    }
  },
  "nbformat": 4,
  "nbformat_minor": 0
}