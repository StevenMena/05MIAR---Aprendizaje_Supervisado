{
 "cells": [
  {
   "cell_type": "code",
   "execution_count": null,
   "metadata": {},
   "outputs": [],
   "source": [
    "# Creación aleatoria de datos\n",
    "import numpy as np\n",
    "X = np.array([0.5, 23, 0.3, 4.5, 0.3, 0.5,\n",
    "              -28, -50, 60, -100, -10, -11, 13, 19, 1, 9])"
   ]
  },
  {
   "cell_type": "code",
   "execution_count": null,
   "metadata": {},
   "outputs": [],
   "source": [
    "# Medidas de tendencia central\n",
    "from scipy import stats\n",
    "\n",
    "media = np.mean(X)\n",
    "mediana = np.median(X)\n",
    "moda, _ = stats.mode(X)\n",
    "print('media: ', media)\n",
    "print('mediana: ', mediana)\n",
    "print('moda :', moda[0])"
   ]
  },
  {
   "cell_type": "code",
   "execution_count": null,
   "metadata": {},
   "outputs": [],
   "source": [
    "# Medidas de posición\n",
    "import numpy as np\n",
    "import matplotlib.pyplot as plt\n",
    "\n",
    "Q1 = np.percentile(X, 25)\n",
    "Q3 = np.percentile(X, 75)\n",
    "RIC = Q3 - Q1\n",
    "lim_inf = Q1 - 1.5*RIC\n",
    "lim_sup = Q3 + 1.5*RIC\n",
    "\n",
    "print('RIC :', RIC)\n",
    "print('limite inferior :', lim_inf)\n",
    "print('limite superior :', lim_sup)"
   ]
  },
  {
   "cell_type": "code",
   "execution_count": null,
   "metadata": {},
   "outputs": [],
   "source": [
    "# Dibuja el diagrama de box and whiskers y determina visualmente el número de outliers\n",
    "plt.boxplot(X)\n",
    "plt.grid()\n",
    "plt.title('Diagrama de caja y bigotes')\n",
    "plt.show()"
   ]
  },
  {
   "cell_type": "code",
   "execution_count": null,
   "metadata": {},
   "outputs": [],
   "source": [
    "# Medidas de dispersión\n",
    "desvest = np.std(X)\n",
    "print('Desviación típica: ', desvest)\n",
    "print('Varianza: ', desvest**2)"
   ]
  },
  {
   "cell_type": "code",
   "execution_count": null,
   "metadata": {},
   "outputs": [],
   "source": [
    "# Medidas de distribución\n",
    "asimetria = stats.skew(X)\n",
    "curtosis = stats.kurtosis(X, fisher=False) # https://docs.scipy.org/doc/scipy/reference/generated/scipy.stats.kurtosis.html\n",
    "print('Asimetría ', np.round(asimetria, 4))\n",
    "print('Curtosis ', np.round(curtosis, 4))\n",
    "\n",
    "if curtosis>0:\n",
    "    print('Distribución Leptocúrtica')\n",
    "elif curtosis<0:\n",
    "    print('Distribución Platicúrtica')\n",
    "else:\n",
    "    print('Distribución Mesocúrtica')"
   ]
  },
  {
   "cell_type": "code",
   "execution_count": null,
   "metadata": {},
   "outputs": [],
   "source": [
    "# Cargar el set de datos de Iris\n",
    "from sklearn import datasets\n",
    "from pprint import pprint\n",
    "iris = datasets.load_iris()\n",
    "#pprint(iris)sep"
   ]
  },
  {
   "cell_type": "code",
   "execution_count": null,
   "metadata": {},
   "outputs": [],
   "source": [
    "# Extraer datos y target\n",
    "X = iris.data\n",
    "y = iris.target\n",
    "\n",
    "# ¿Qué tipo de asimetría se observa en la variable \"longitud del pétalo\"?\n",
    "# Extraer las medidas de distribución de la longitud del pétalo\n",
    "petal_len = X[:,2]\n",
    "asimetria = stats.skew(petal_len)\n",
    "print(asimetria)\n",
    "\n",
    "# ¿A qué tipo de distribución se ajusta la variable \"ancho del sépalo\", según su curtosis?\n",
    "sepal_width = X[:,1]\n",
    "curtosis = stats.kurtosis(sepal_width, fisher=True)\n",
    "print(curtosis)"
   ]
  },
  {
   "cell_type": "code",
   "execution_count": null,
   "metadata": {},
   "outputs": [],
   "source": [
    "# EJERCICIO EXTRA SOBRE EL DATASET DE IRIS\n",
    "# Extraer la media y la desviación típica de cada variable en función de la clase y representarlo en un gráfico (plt.errorbar)\n",
    "colors=['blue', 'green', 'red']\n",
    "for k in range(3): # 3 classes\n",
    "    data_clase = X[y==k]\n",
    "    mean_class = np.mean(data_clase, axis=0)\n",
    "    desv_class = np.std(data_clase)\n",
    "    col = ''.join(['o', colors[k][0]])\n",
    "    plt.plot(range(4), mean_class, col, markersize=8, linewidth=5)\n",
    "    plt.errorbar(range(4), mean_class, yerr=desv_class, color=colors[k])\n",
    "plt.xlabel('Variables')\n",
    "plt.ylabel('Valores')\n",
    "plt.grid()\n",
    "plt.legend(['setosa', 'versicolor', 'virginica'])\n",
    "plt.show()"
   ]
  }
 ],
 "metadata": {
  "kernelspec": {
   "display_name": "Python 3",
   "language": "python",
   "name": "python3"
  },
  "language_info": {
   "codemirror_mode": {
    "name": "ipython",
    "version": 3
   },
   "file_extension": ".py",
   "mimetype": "text/x-python",
   "name": "python",
   "nbconvert_exporter": "python",
   "pygments_lexer": "ipython3",
   "version": "3.8.5"
  }
 },
 "nbformat": 4,
 "nbformat_minor": 4
}
