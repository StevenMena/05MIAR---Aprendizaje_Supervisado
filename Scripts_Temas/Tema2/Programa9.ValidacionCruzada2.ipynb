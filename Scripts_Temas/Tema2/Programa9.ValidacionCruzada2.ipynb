{
  "cells": [
    {
      "cell_type": "code",
      "execution_count": 12,
      "metadata": {
        "id": "48rxBl6QSxUN"
      },
      "outputs": [],
      "source": [
        "import numpy as np\n",
        "import pandas as pd\n",
        "from sklearn.dummy import DummyClassifier\n",
        "from sklearn.model_selection import cross_val_score\n",
        "from sklearn.model_selection import KFold\n",
        "from sklearn.model_selection import train_test_split\n",
        "from sklearn.preprocessing import StandardScaler"
      ]
    },
    {
      "cell_type": "code",
      "execution_count": 3,
      "metadata": {
        "id": "XvSC5t1JSxUR",
        "outputId": "a287ca5f-6e92-41f8-a0ea-3a59bfc28a0d",
        "colab": {
          "base_uri": "https://localhost:8080/"
        }
      },
      "outputs": [
        {
          "output_type": "stream",
          "name": "stdout",
          "text": [
            "   Culmen length  Culmen depth  Flipper length  Body mass  Especies\n",
            "0          39.10         18.70          181.00    3750.00       0.0\n",
            "1          39.50         17.40          186.00    3800.00       0.0\n",
            "2          40.30         18.00          195.00    3250.00       0.0\n",
            "3          43.92         17.15          200.92    4201.75       0.0\n",
            "4          36.70         19.30          193.00    3450.00       0.0\n"
          ]
        }
      ],
      "source": [
        "# Carga de datos.\n",
        "csv = pd.read_csv('penguins_clean.csv',sep=';')\n",
        "print(csv.head())"
      ]
    },
    {
      "cell_type": "code",
      "execution_count": 6,
      "metadata": {
        "id": "HbP0_AtcSxUR"
      },
      "outputs": [],
      "source": [
        "# Convertir dataframe en numpy array\n",
        "data = np.array(csv)\n",
        "#todas las filas y todas las columnas\n",
        "X = data[:,:-1]\n",
        "#todas filas, solo la última columna\n",
        "y = data[:,-1]"
      ]
    },
    {
      "cell_type": "code",
      "execution_count": 7,
      "metadata": {
        "id": "6pZcxp3ySxUS",
        "outputId": "ac323fff-5e0a-4918-b03f-902aa18480a2",
        "colab": {
          "base_uri": "https://localhost:8080/"
        }
      },
      "outputs": [
        {
          "output_type": "stream",
          "name": "stdout",
          "text": [
            "Tabla de datos: 344 instancias y 4 atributos\n",
            "Valores de la clase: {0.0, 1.0, 2.0}\n"
          ]
        }
      ],
      "source": [
        "# Mostrar características de la tabla de datos.\n",
        "print(\"Tabla de datos: %d instancias y %d atributos\" % (X.shape[0], X.shape[1]))\n",
        "print(\"Valores de la clase:\", set(y))"
      ]
    },
    {
      "cell_type": "code",
      "execution_count": 8,
      "metadata": {
        "id": "HfQgYyxQSxUS",
        "outputId": "010a9e9c-42c6-4d87-8984-7258da508f22",
        "colab": {
          "base_uri": "https://localhost:8080/"
        }
      },
      "outputs": [
        {
          "output_type": "stream",
          "name": "stdout",
          "text": [
            "Test:  clases: [0. 1. 2.]  ocurrencias:  [32 24 13]\n",
            "Entrenamiento:   clases: [0. 1. 2.]   ocurrencias: [120 100  55]\n"
          ]
        }
      ],
      "source": [
        "# Test: hold-out split 80-20%. PARTICIÓN EXTERNA\n",
        "X_train, X_test, y_train, y_test = train_test_split(X,y,test_size=0.2,shuffle=True,random_state=42)\n",
        "\n",
        "valores_test, ocur_test = np.unique(y_test, return_counts=True)\n",
        "print('Test: ', 'clases:', valores_test, ' ocurrencias: ', ocur_test)\n",
        "\n",
        "valores_train, ocur_train = np.unique(y_train, return_counts=True)\n",
        "print('Entrenamiento: ', ' clases:', valores_train, '  ocurrencias:', ocur_train)"
      ]
    },
    {
      "cell_type": "code",
      "execution_count": 13,
      "metadata": {
        "id": "JRVJbLWwSxUT"
      },
      "outputs": [],
      "source": [
        "# Estandarizar las características de entrenamiento y de test\n",
        "standardizer = StandardScaler()\n",
        "X_train = standardizer.fit_transform(X_train)\n",
        "X_test = standardizer.transform(X_test)"
      ]
    },
    {
      "cell_type": "code",
      "execution_count": 17,
      "metadata": {
        "id": "5sGHZxTjSxUT",
        "outputId": "76de24cb-00e3-4e99-9a8f-9246ebfb624c",
        "colab": {
          "base_uri": "https://localhost:8080/"
        }
      },
      "outputs": [
        {
          "output_type": "stream",
          "name": "stdout",
          "text": [
            "Resultados por bolsa:  [0.96363636 0.98181818 1.         0.98181818 0.98181818]\n",
            "Accuracy (media +/- desv.): 0.9818 +/- 0.0115\n"
          ]
        }
      ],
      "source": [
        "# Hacemos el cross-validation interno para seleccionar los mejores hiperparámetros\n",
        "from sklearn.svm import SVC\n",
        "#svc = SVC(C=1, gamma='scale', kernel='rbf')\n",
        "svc = SVC(C=100, gamma='auto', kernel='linear')\n",
        "#Se le pasa la arquitectura del modelo pero sin entrenar\n",
        "#la función cross_val_score nos devuelve la exactitud por cada iteración, utilizando test distintos\n",
        "results = cross_val_score(svc, X_train, y_train, cv = KFold(n_splits=5, shuffle=True, random_state=42))\n",
        "print(\"Resultados por bolsa: \", results)\n",
        "#Cuando tenemos la media cerca de 1 y la desviación tipíca pequeña cerca de 0, podemos decir que nuestro algoritmo \n",
        "#puede llegar a predecir bien\n",
        "print(\"Accuracy (media +/- desv.): %0.4f +/- %0.4f\" % (results.mean(), results.std()))"
      ]
    },
    {
      "cell_type": "code",
      "execution_count": 20,
      "metadata": {
        "id": "Tx5c0bY6SxUU",
        "outputId": "2f1b7d01-db09-4c56-f2fe-3128e462879d",
        "colab": {
          "base_uri": "https://localhost:8080/",
          "height": 74
        }
      },
      "outputs": [
        {
          "output_type": "execute_result",
          "data": {
            "text/plain": [
              "SVC(C=100, gamma='auto', kernel='linear')"
            ],
            "text/html": [
              "<style>#sk-container-id-1 {color: black;background-color: white;}#sk-container-id-1 pre{padding: 0;}#sk-container-id-1 div.sk-toggleable {background-color: white;}#sk-container-id-1 label.sk-toggleable__label {cursor: pointer;display: block;width: 100%;margin-bottom: 0;padding: 0.3em;box-sizing: border-box;text-align: center;}#sk-container-id-1 label.sk-toggleable__label-arrow:before {content: \"▸\";float: left;margin-right: 0.25em;color: #696969;}#sk-container-id-1 label.sk-toggleable__label-arrow:hover:before {color: black;}#sk-container-id-1 div.sk-estimator:hover label.sk-toggleable__label-arrow:before {color: black;}#sk-container-id-1 div.sk-toggleable__content {max-height: 0;max-width: 0;overflow: hidden;text-align: left;background-color: #f0f8ff;}#sk-container-id-1 div.sk-toggleable__content pre {margin: 0.2em;color: black;border-radius: 0.25em;background-color: #f0f8ff;}#sk-container-id-1 input.sk-toggleable__control:checked~div.sk-toggleable__content {max-height: 200px;max-width: 100%;overflow: auto;}#sk-container-id-1 input.sk-toggleable__control:checked~label.sk-toggleable__label-arrow:before {content: \"▾\";}#sk-container-id-1 div.sk-estimator input.sk-toggleable__control:checked~label.sk-toggleable__label {background-color: #d4ebff;}#sk-container-id-1 div.sk-label input.sk-toggleable__control:checked~label.sk-toggleable__label {background-color: #d4ebff;}#sk-container-id-1 input.sk-hidden--visually {border: 0;clip: rect(1px 1px 1px 1px);clip: rect(1px, 1px, 1px, 1px);height: 1px;margin: -1px;overflow: hidden;padding: 0;position: absolute;width: 1px;}#sk-container-id-1 div.sk-estimator {font-family: monospace;background-color: #f0f8ff;border: 1px dotted black;border-radius: 0.25em;box-sizing: border-box;margin-bottom: 0.5em;}#sk-container-id-1 div.sk-estimator:hover {background-color: #d4ebff;}#sk-container-id-1 div.sk-parallel-item::after {content: \"\";width: 100%;border-bottom: 1px solid gray;flex-grow: 1;}#sk-container-id-1 div.sk-label:hover label.sk-toggleable__label {background-color: #d4ebff;}#sk-container-id-1 div.sk-serial::before {content: \"\";position: absolute;border-left: 1px solid gray;box-sizing: border-box;top: 0;bottom: 0;left: 50%;z-index: 0;}#sk-container-id-1 div.sk-serial {display: flex;flex-direction: column;align-items: center;background-color: white;padding-right: 0.2em;padding-left: 0.2em;position: relative;}#sk-container-id-1 div.sk-item {position: relative;z-index: 1;}#sk-container-id-1 div.sk-parallel {display: flex;align-items: stretch;justify-content: center;background-color: white;position: relative;}#sk-container-id-1 div.sk-item::before, #sk-container-id-1 div.sk-parallel-item::before {content: \"\";position: absolute;border-left: 1px solid gray;box-sizing: border-box;top: 0;bottom: 0;left: 50%;z-index: -1;}#sk-container-id-1 div.sk-parallel-item {display: flex;flex-direction: column;z-index: 1;position: relative;background-color: white;}#sk-container-id-1 div.sk-parallel-item:first-child::after {align-self: flex-end;width: 50%;}#sk-container-id-1 div.sk-parallel-item:last-child::after {align-self: flex-start;width: 50%;}#sk-container-id-1 div.sk-parallel-item:only-child::after {width: 0;}#sk-container-id-1 div.sk-dashed-wrapped {border: 1px dashed gray;margin: 0 0.4em 0.5em 0.4em;box-sizing: border-box;padding-bottom: 0.4em;background-color: white;}#sk-container-id-1 div.sk-label label {font-family: monospace;font-weight: bold;display: inline-block;line-height: 1.2em;}#sk-container-id-1 div.sk-label-container {text-align: center;}#sk-container-id-1 div.sk-container {/* jupyter's `normalize.less` sets `[hidden] { display: none; }` but bootstrap.min.css set `[hidden] { display: none !important; }` so we also need the `!important` here to be able to override the default hidden behavior on the sphinx rendered scikit-learn.org. See: https://github.com/scikit-learn/scikit-learn/issues/21755 */display: inline-block !important;position: relative;}#sk-container-id-1 div.sk-text-repr-fallback {display: none;}</style><div id=\"sk-container-id-1\" class=\"sk-top-container\"><div class=\"sk-text-repr-fallback\"><pre>SVC(C=100, gamma=&#x27;auto&#x27;, kernel=&#x27;linear&#x27;)</pre><b>In a Jupyter environment, please rerun this cell to show the HTML representation or trust the notebook. <br />On GitHub, the HTML representation is unable to render, please try loading this page with nbviewer.org.</b></div><div class=\"sk-container\" hidden><div class=\"sk-item\"><div class=\"sk-estimator sk-toggleable\"><input class=\"sk-toggleable__control sk-hidden--visually\" id=\"sk-estimator-id-1\" type=\"checkbox\" checked><label for=\"sk-estimator-id-1\" class=\"sk-toggleable__label sk-toggleable__label-arrow\">SVC</label><div class=\"sk-toggleable__content\"><pre>SVC(C=100, gamma=&#x27;auto&#x27;, kernel=&#x27;linear&#x27;)</pre></div></div></div></div></div>"
            ]
          },
          "metadata": {},
          "execution_count": 20
        }
      ],
      "source": [
        "# Una vez entrenado y validado el modelo para seleccionar los mejores hyperparameters, utilizamos todos los datos de \n",
        "# \"train\" y \"val\" para entrenar el modelo definitivo\n",
        "\n",
        "svc =  SVC(C=100, gamma='auto', kernel='linear')\n",
        "svc.fit(X_train,y_train)"
      ]
    },
    {
      "cell_type": "code",
      "execution_count": 21,
      "metadata": {
        "id": "-goo_yEHSxUU",
        "outputId": "814b9d3d-c8bb-4f00-ef69-c4af8f63ee98",
        "colab": {
          "base_uri": "https://localhost:8080/"
        }
      },
      "outputs": [
        {
          "output_type": "stream",
          "name": "stdout",
          "text": [
            "Exactitud en test:  97.10144927536231 %\n"
          ]
        }
      ],
      "source": [
        "# Calcular la accuracy del conjunto de test\n",
        "test_results = svc.score(X_test,y_test)\n",
        "print('Exactitud en test: ', test_results*100, '%')"
      ]
    },
    {
      "cell_type": "code",
      "execution_count": 23,
      "metadata": {
        "id": "rtuFdK7ZSxUV",
        "outputId": "a8c3a5f3-89d7-49c3-c536-ab7f22684dea",
        "colab": {
          "base_uri": "https://localhost:8080/"
        }
      },
      "outputs": [
        {
          "output_type": "stream",
          "name": "stdout",
          "text": [
            "Predicciones:      [1. 1. 1. 1. 2. 2. 2. 1. 0. 1. 2. 0. 0. 0. 2. 0. 0. 1. 2. 0. 0. 0. 1. 0.\n",
            " 1. 1. 0. 1. 0. 1. 0. 0. 1. 0. 0. 0. 2. 1. 0. 1. 2. 2. 2. 0. 1. 0. 1. 0.\n",
            " 0. 1. 0. 1. 2. 0. 0. 1. 0. 1. 1. 1. 1. 0. 2. 0. 2. 1. 2. 0. 0.]\n",
            "Etiquetas reales:  [1. 1. 1. 1. 2. 2. 2. 1. 0. 1. 2. 0. 0. 0. 2. 0. 0. 1. 2. 0. 0. 0. 1. 0.\n",
            " 1. 1. 0. 1. 0. 1. 0. 0. 1. 0. 0. 0. 2. 1. 0. 1. 2. 2. 2. 0. 0. 0. 1. 0.\n",
            " 0. 1. 0. 1. 2. 0. 0. 1. 0. 1. 1. 1. 1. 0. 2. 0. 2. 1. 0. 0. 0.]\n"
          ]
        }
      ],
      "source": [
        "# Extraer las predicciones, en lugar de directamente la accuracy\n",
        "y_pred = svc.predict(X_test)\n",
        "print('Predicciones:     ', y_pred)\n",
        "print('Etiquetas reales: ', y_test)"
      ]
    }
  ],
  "metadata": {
    "kernelspec": {
      "display_name": "Python 3",
      "language": "python",
      "name": "python3"
    },
    "language_info": {
      "codemirror_mode": {
        "name": "ipython",
        "version": 3
      },
      "file_extension": ".py",
      "mimetype": "text/x-python",
      "name": "python",
      "nbconvert_exporter": "python",
      "pygments_lexer": "ipython3",
      "version": "3.8.5"
    },
    "colab": {
      "provenance": []
    }
  },
  "nbformat": 4,
  "nbformat_minor": 0
}