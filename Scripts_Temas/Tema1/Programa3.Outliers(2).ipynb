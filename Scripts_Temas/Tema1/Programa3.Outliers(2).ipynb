{
  "cells": [
    {
      "cell_type": "markdown",
      "metadata": {
        "id": "eY0QMj2YoRQx"
      },
      "source": [
        "## DETECCIÓN DE OUTLIERS"
      ]
    },
    {
      "cell_type": "code",
      "execution_count": 5,
      "metadata": {
        "id": "j99_QwMooRQ0"
      },
      "outputs": [],
      "source": [
        "import pandas as pd\n",
        "import numpy as np\n",
        "from scipy import stats\n",
        "from sklearn.covariance import EllipticEnvelope\n",
        "import matplotlib.pyplot as plt"
      ]
    },
    {
      "cell_type": "code",
      "execution_count": 7,
      "metadata": {
        "id": "M2oHzObCoRQ1",
        "outputId": "59402973-586c-4acc-9f4e-fb90b5cbbddb",
        "colab": {
          "base_uri": "https://localhost:8080/"
        }
      },
      "outputs": [
        {
          "output_type": "stream",
          "name": "stdout",
          "text": [
            "            a         b\n",
            "0    0.149014 -0.041479\n",
            "1    0.194307  0.456909\n",
            "2   -0.070246 -0.070241\n",
            "3    0.473764  0.230230\n",
            "4   -0.140842  0.162768\n",
            "..        ...       ...\n",
            "195 -5.114441  0.646251\n",
            "196  5.631630  0.277174\n",
            "197  1.552784  2.348984\n",
            "198 -0.545507  1.530697\n",
            "199  1.011772  4.813896\n",
            "\n",
            "[200 rows x 2 columns]\n"
          ]
        }
      ],
      "source": [
        "#150 son valores sin outliers\n",
        "#50 se introdujieron valores outliers\n",
        "# Carga de datos.\n",
        "df = pd.read_csv(\"outliers.csv\")\n",
        "print(df)"
      ]
    },
    {
      "cell_type": "markdown",
      "metadata": {
        "id": "PIEe3M5WoRQ2"
      },
      "source": [
        "### 1) EllipticEnvelope()"
      ]
    },
    {
      "cell_type": "code",
      "execution_count": 8,
      "metadata": {
        "id": "_r686h5SoRQ2",
        "outputId": "48e76b1d-96a2-4751-fd4e-c9150562aa62",
        "colab": {
          "base_uri": "https://localhost:8080/"
        }
      },
      "outputs": [
        {
          "output_type": "stream",
          "name": "stdout",
          "text": [
            "[ 1  1  1  1  1  1  1  1  1  1  1  1  1  1  1  1  1  1  1  1  1  1  1  1\n",
            "  1  1  1  1  1  1  1  1  1  1  1  1  1  1  1  1  1  1  1  1  1  1  1  1\n",
            "  1  1  1  1  1  1  1  1  1  1  1  1  1  1  1  1  1  1  1  1  1  1  1  1\n",
            "  1  1  1  1  1  1  1  1  1  1  1  1  1  1  1  1  1  1  1  1  1  1  1  1\n",
            "  1  1  1  1  1  1  1  1  1  1  1  1  1  1  1  1  1  1  1  1  1  1  1  1\n",
            "  1  1  1  1  1  1  1  1  1  1  1  1  1  1  1  1  1  1  1  1  1  1  1  1\n",
            "  1  1  1  1  1  1 -1 -1 -1 -1 -1 -1 -1 -1 -1 -1 -1 -1 -1 -1 -1 -1 -1 -1\n",
            " -1 -1 -1 -1 -1 -1 -1 -1 -1 -1 -1 -1 -1 -1 -1 -1 -1 -1 -1 -1 -1 -1 -1 -1\n",
            " -1 -1 -1 -1 -1 -1 -1 -1]\n",
            "\n",
            "Outliers en la posición: \n",
            " [150 151 152 153 154 155 156 157 158 159 160 161 162 163 164 165 166 167\n",
            " 168 169 170 171 172 173 174 175 176 177 178 179 180 181 182 183 184 185\n",
            " 186 187 188 189 190 191 192 193 194 195 196 197 198 199]\n",
            "\n",
            "Número de outliers: \n",
            " 50\n"
          ]
        }
      ],
      "source": [
        "# Entrenamos un objeto de tipo EllipticEnvelope\n",
        "# el algoritmo trabaja sobre toda la matriz\n",
        "#la contamination es un valor que especifica la proporción del data set que se cree que tiene outliers\n",
        "#randon_state es la semilla que se define \n",
        "algorithm = EllipticEnvelope(support_fraction=None, contamination=0.25, random_state=42)\n",
        "\n",
        "#Se utiliza el fit para entrenar el modelo con el algoritmo de EllipticEnvelope\n",
        "outlier_method = algorithm.fit(df)\n",
        "\n",
        "# Aplicamos el método de detección de outliers entrenado sobre nuesto dataset\n",
        "#El predict me pone en 1 los valores normales y en -1 los valores anómalos\n",
        "df_outliers = outlier_method.predict(df)\n",
        "print(df_outliers)\n",
        "\n",
        "# Determinar la posición de los outliers\n",
        "pos_outliers = np.where(df_outliers==-1)[0]\n",
        "print('\\nOutliers en la posición: \\n', pos_outliers)\n",
        "\n",
        "# Determinar el número de outliers\n",
        "print('\\nNúmero de outliers: \\n', len(pos_outliers))"
      ]
    },
    {
      "cell_type": "code",
      "execution_count": 1,
      "metadata": {
        "id": "FaBcrkxJoRQ2"
      },
      "outputs": [],
      "source": [
        "# Definimos una función que, dado un determinado \"df\" y un \"algorithm\", devuelva la matriz y la posición de outliers\n",
        "def find_outliers(df, algorithm):\n",
        "    \n",
        "    outlier_method = algorithm.fit(df)\n",
        "\n",
        "    df_outliers = outlier_method.predict(df)\n",
        "    print(df_outliers)\n",
        "\n",
        "    pos_outliers = np.where(df_outliers==-1)[0]\n",
        "\n",
        "\n",
        "    return df_outliers, pos_outliers"
      ]
    },
    {
      "cell_type": "markdown",
      "metadata": {
        "id": "zFWDGezjoRQ3"
      },
      "source": [
        "### 2) Otros métodos similares"
      ]
    },
    {
      "cell_type": "code",
      "execution_count": 9,
      "metadata": {
        "id": "TyBOt6lDoRQ3",
        "outputId": "fd68025f-bab0-4ab2-c362-e72d1f86949e",
        "colab": {
          "base_uri": "https://localhost:8080/"
        }
      },
      "outputs": [
        {
          "output_type": "stream",
          "name": "stdout",
          "text": [
            "[ 1  1  1  1  1  1  1  1  1  1  1  1  1  1  1  1  1  1  1  1  1  1  1  1\n",
            "  1  1  1  1  1  1  1  1  1  1  1  1  1  1  1  1  1  1  1  1  1  1  1  1\n",
            "  1  1  1  1  1  1  1  1  1  1  1  1  1  1  1  1  1  1  1  1  1  1  1  1\n",
            "  1  1  1  1  1  1  1  1  1  1  1  1  1  1  1  1  1  1  1  1  1  1  1  1\n",
            "  1  1  1  1  1  1  1  1  1  1  1  1  1  1  1  1  1  1  1  1  1  1  1  1\n",
            "  1  1  1  1  1  1  1  1  1  1  1  1  1  1  1  1  1  1  1  1  1  1  1  1\n",
            "  1  1  1  1  1  1 -1 -1 -1 -1 -1 -1 -1 -1 -1 -1 -1 -1 -1 -1  1 -1 -1 -1\n",
            " -1 -1 -1 -1 -1 -1 -1 -1 -1 -1 -1 -1 -1 -1 -1 -1 -1 -1 -1 -1 -1 -1 -1 -1\n",
            " -1 -1 -1 -1 -1 -1  1 -1]\n",
            "48\n"
          ]
        }
      ],
      "source": [
        "from sklearn.ensemble import IsolationForest\n",
        "from sklearn.svm import OneClassSVM\n",
        "from sklearn.neighbors import LocalOutlierFactor\n",
        "\n",
        "\n",
        "IF = IsolationForest(n_estimators=100, contamination='auto', random_state=42)\n",
        "OC_SVM =  OneClassSVM(kernel='poly', degree=1, gamma='auto')\n",
        "LOF = LocalOutlierFactor(n_neighbors=20, algorithm='auto', metric='euclidean', contamination='auto', novelty=True)\n",
        "\n",
        "df_outliers, pos_outliers = find_outliers(df, IF)\n",
        "print(len(pos_outliers))"
      ]
    },
    {
      "cell_type": "code",
      "execution_count": 10,
      "metadata": {
        "id": "aSueHzpFoRQ3",
        "outputId": "1c5215a3-1c71-4abb-cef1-e591fe9d5301",
        "colab": {
          "base_uri": "https://localhost:8080/"
        }
      },
      "outputs": [
        {
          "output_type": "stream",
          "name": "stdout",
          "text": [
            "            a         b\n",
            "0    0.149014 -0.041479\n",
            "1    0.194307  0.456909\n",
            "2   -0.070246 -0.070241\n",
            "3    0.473764  0.230230\n",
            "4   -0.140842  0.162768\n",
            "..        ...       ...\n",
            "147  0.107105 -0.207873\n",
            "148  0.269880  0.092190\n",
            "149  0.243859  0.188889\n",
            "164  1.582047 -0.618654\n",
            "198 -0.545507  1.530697\n",
            "\n",
            "[152 rows x 2 columns]\n"
          ]
        }
      ],
      "source": [
        "# Eliminamos los outliers\n",
        "new_df = df[df_outliers==1]\n",
        "print(new_df)"
      ]
    },
    {
      "cell_type": "markdown",
      "metadata": {
        "id": "qF3aF7oOoRQ3"
      },
      "source": [
        "### 3) Box plot"
      ]
    },
    {
      "cell_type": "code",
      "execution_count": 11,
      "metadata": {
        "id": "CBrF4spXoRQ4",
        "outputId": "13a5a3c7-a410-49bc-b477-897fe80b735d",
        "colab": {
          "base_uri": "https://localhost:8080/",
          "height": 369
        }
      },
      "outputs": [
        {
          "output_type": "stream",
          "name": "stdout",
          "text": [
            "limite inferior:  -1.0853060827395105\n",
            "limite superior:  1.0119554520872196\n",
            "Posición de outliers:  [150 153 154 157 159 160 162 165 168 169 171 172 174 175 177 178 181 184\n",
            " 185 186 187 190 191 192 193 195 151 152 155 156 161 163 164 166 167 173\n",
            " 176 179 180 182 188 189 196 197]\n",
            "Número de outliers:  44\n"
          ]
        },
        {
          "output_type": "display_data",
          "data": {
            "text/plain": [
              "<Figure size 432x288 with 1 Axes>"
            ],
            "image/png": "[encoded data removed]"
          },
          "metadata": {
            "needs_background": "light"
          }
        }
      ],
      "source": [
        "# Seleccionamos el atributo que vamos a medir\n",
        "a = df['a']\n",
        "\n",
        "# Seleccionamos los umbrales a partir de los cuales vamos a considerar outliers\n",
        "#Calculamos el indice intercuartilico\n",
        "Q1 = stats.scoreatpercentile(a, 25)\n",
        "Q3 = stats.scoreatpercentile(a, 75)\n",
        "RIC = Q3 - Q1\n",
        "#calculando los límites máx y min\n",
        "li = Q1 - 1.5*RIC #xmin\n",
        "ls = Q3 + 1.5*RIC #xmax\n",
        "\n",
        "# Observamos los límites inferior y superior\n",
        "print('limite inferior: ', li)\n",
        "print('limite superior: ', ls)\n",
        "\n",
        "# Buscamos la posición de los outliers en una columna en específico\n",
        "pos_i = np.where(a<li)[0]\n",
        "pos_s = np.where(a>ls)[0]\n",
        "#Concatenamos las posiciones obtenidas que superan los límites inferiores y superiores\n",
        "pos_outliers = np.concatenate((pos_i, pos_s))\n",
        "print('Posición de outliers: ', pos_outliers)\n",
        "print('Número de outliers: ', len(pos_outliers))\n",
        "\n",
        "# Dibujamos el diagrama de caja y bigotes\n",
        "prop = plt.boxplot(a)\n",
        "plt.boxplot(a)\n",
        "plt.show()"
      ]
    },
    {
      "cell_type": "code",
      "execution_count": 12,
      "metadata": {
        "id": "_cLDrvy0oRQ4"
      },
      "outputs": [],
      "source": [
        "# Definir una función que, dada una columna de un dataframe, devuelva la posición de los outliers según el método box plot\n",
        "def find_limits_BP(variable):\n",
        "    \n",
        "     # Seleccionamos los umbrales a partir de los cuales vamos a considerar outliers\n",
        "    Q1 = stats.scoreatpercentile(variable, 25)\n",
        "    Q3 = stats.scoreatpercentile(variable, 75)\n",
        "    RIC = Q3 - Q1\n",
        "    li = Q1 - 1.5*RIC #xmin\n",
        "    ls = Q3 + 1.5*RIC #xmax\n",
        "\n",
        "    # Observamos los límites inferior y superior\n",
        "    print('limite inferior: ', li)\n",
        "    print('limite superior: ', ls)\n",
        "\n",
        "    # Buscamos la posición de los outliers\n",
        "    pos_i = np.where(variable<li)[0]\n",
        "    pos_s = np.where(variable>ls)[0]\n",
        "    pos_outliers = np.concatenate((pos_i, pos_s))\n",
        "    print('Posición de outliers: ', pos_outliers)\n",
        "    print('Número de outliers: ', len(pos_outliers))\n",
        "\n",
        "    # Dibujamos el diagrama de caja y bigotes\n",
        "    prop = plt.boxplot(variable)\n",
        "    plt.boxplot(variable)\n",
        "    plt.grid()\n",
        "    plt.show()\n",
        "    \n",
        "    return pos_outliers\n"
      ]
    },
    {
      "cell_type": "code",
      "execution_count": 13,
      "metadata": {
        "id": "iOaoukduoRQ4",
        "outputId": "d3a4fb29-efd6-4e73-c913-299983ce4515",
        "colab": {
          "base_uri": "https://localhost:8080/",
          "height": 721
        }
      },
      "outputs": [
        {
          "output_type": "stream",
          "name": "stdout",
          "text": [
            "limite inferior:  -1.0853060827395105\n",
            "limite superior:  1.0119554520872196\n",
            "Posición de outliers:  [150 153 154 157 159 160 162 165 168 169 171 172 174 175 177 178 181 184\n",
            " 185 186 187 190 191 192 193 195 151 152 155 156 161 163 164 166 167 173\n",
            " 176 179 180 182 188 189 196 197]\n",
            "Número de outliers:  44\n"
          ]
        },
        {
          "output_type": "display_data",
          "data": {
            "text/plain": [
              "<Figure size 432x288 with 1 Axes>"
            ],
            "image/png": "[encoded data removed]"
          },
          "metadata": {
            "needs_background": "light"
          }
        },
        {
          "output_type": "stream",
          "name": "stdout",
          "text": [
            "limite inferior:  -0.9868496601410702\n",
            "limite superior:  1.0772774705919084\n",
            "Posición de outliers:  [150 152 160 161 165 171 173 176 178 181 186 189 104 151 153 154 156 157\n",
            " 158 159 162 166 167 170 172 174 175 177 179 180 183 187 190 191 192 193\n",
            " 194 197 198 199]\n",
            "Número de outliers:  40\n"
          ]
        },
        {
          "output_type": "display_data",
          "data": {
            "text/plain": [
              "<Figure size 432x288 with 1 Axes>"
            ],
            "image/png": "[encoded data removed]"
          },
          "metadata": {
            "needs_background": "light"
          }
        }
      ],
      "source": [
        "# Creamos un bucle for que estime los valores outliers de cada atributo\n",
        "headers = df.columns # nombre de los atributos del CSV\n",
        "pos_outliers = []\n",
        "for i in range(len(headers)):\n",
        "    variable = df[headers[i]] # Atributo i\n",
        "    pos_out = find_limits_BP(variable) # Buscamos los outliers en esa variable con la función que hemos creado\n",
        "    pos_out = np.expand_dims(pos_out, axis=1) # Extpandimos las dimensiones\n",
        "    pos_outliers.append(pos_out) # Lo añadimos en una lista"
      ]
    },
    {
      "cell_type": "code",
      "execution_count": 14,
      "metadata": {
        "id": "huRG2jhwoRQ5",
        "outputId": "d8a7f8f4-770c-4934-96bb-ecda05ee7708",
        "colab": {
          "base_uri": "https://localhost:8080/"
        }
      },
      "outputs": [
        {
          "output_type": "stream",
          "name": "stdout",
          "text": [
            "Posiciones de outliers totales:  [104 150 151 152 153 154 155 156 157 158 159 160 161 162 163 164 165 166\n",
            " 167 168 169 170 171 172 173 174 175 176 177 178 179 180 181 182 183 184\n",
            " 185 186 187 188 189 190 191 192 193 194 195 196 197 198 199]\n",
            "Numero de outliers totales:  51\n"
          ]
        }
      ],
      "source": [
        "# Concatenamos todas las posiciones de outliers\n",
        "po = np.vstack(pos_outliers)\n",
        "\n",
        "# Vemos las posiciones de todos los outliers\n",
        "pos_out = np.unique(po)\n",
        "print('Posiciones de outliers totales: ', pos_out)\n",
        "\n",
        "# Observamos el número de outliers\n",
        "print('Numero de outliers totales: ', len(pos_out))"
      ]
    }
  ],
  "metadata": {
    "kernelspec": {
      "display_name": "Python 3",
      "language": "python",
      "name": "python3"
    },
    "language_info": {
      "codemirror_mode": {
        "name": "ipython",
        "version": 3
      },
      "file_extension": ".py",
      "mimetype": "text/x-python",
      "name": "python",
      "nbconvert_exporter": "python",
      "pygments_lexer": "ipython3",
      "version": "3.8.5"
    },
    "colab": {
      "provenance": []
    }
  },
  "nbformat": 4,
  "nbformat_minor": 0
}