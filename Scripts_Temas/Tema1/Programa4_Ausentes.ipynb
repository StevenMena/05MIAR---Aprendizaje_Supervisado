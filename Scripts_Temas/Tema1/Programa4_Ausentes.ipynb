{
  "cells": [
    {
      "cell_type": "code",
      "execution_count": 1,
      "metadata": {
        "id": "sbnozIQYXVn8"
      },
      "outputs": [],
      "source": [
        "import numpy as np\n",
        "from sklearn.impute import SimpleImputer"
      ]
    },
    {
      "cell_type": "code",
      "execution_count": 2,
      "metadata": {
        "id": "EoEyKNvFXVn-"
      },
      "outputs": [],
      "source": [
        "# Carga de datos\n",
        "X_train = [[1,      4], \n",
        "           [np.nan, 3], \n",
        "           [7,      8]]"
      ]
    },
    {
      "cell_type": "code",
      "execution_count": 3,
      "metadata": {
        "colab": {
          "base_uri": "https://localhost:8080/"
        },
        "id": "mnynWh9jXVn_",
        "outputId": "4cd4e1eb-6274-444a-94fc-47a159221d42"
      },
      "outputs": [
        {
          "output_type": "stream",
          "name": "stdout",
          "text": [
            "[[1. 4.]\n",
            " [4. 3.]\n",
            " [7. 8.]]\n"
          ]
        }
      ],
      "source": [
        "# Limpieza de datos: imputación valores ausentes (modelo)\n",
        "imputer = SimpleImputer(strategy='mean') # Utilizamos la estrategia de la media, pero también podemos ocupar la mediana y la moda\n",
        "\n",
        "# Aplicar los métodos \"fit\" y \"transform\" para imputar los valores pérdidos de X_train\n",
        "X_train_clean = imputer.fit_transform(X_train)\n",
        "print(X_train_clean)\n",
        "# el valor del nan ahora es 4, ya que como es la media, 7+1=8/2=4"
      ]
    },
    {
      "cell_type": "code",
      "execution_count": 5,
      "metadata": {
        "colab": {
          "base_uri": "https://localhost:8080/"
        },
        "id": "fWuk2bfTXVoA",
        "outputId": "3c390529-f749-41ee-9383-60d87725ca56"
      },
      "outputs": [
        {
          "output_type": "stream",
          "name": "stdout",
          "text": [
            "[[ 4. 10.]\n",
            " [ 6.  5.]\n",
            " [ 8.  2.]]\n"
          ]
        }
      ],
      "source": [
        "# Imputación de valores ausentes sobre el conjunto de test\n",
        "X_test = [[np.nan, 10], \n",
        "          [6,      np.nan], \n",
        "          [8,      2]]\n",
        "\n",
        "# Imputar los datos del conjunto de test\n",
        "#Aqui solo aplico el transform porque el imputador ya se establecio en el entrenamiento\n",
        "#el imputador es independiente por columnas o atributos\n",
        "X_test_clean = imputer.transform(X_test)\n",
        "\n",
        "print(X_test_clean)\n",
        "#porque toma 5 el valor del nan de la segunda columna??\n",
        "#porque en los datos del entrenamiento la media de los 3 valores es 5, 4+3+8=15, 15/3=5\n",
        "#esto de saber porque valor de sustituye es pregunta de examen"
      ]
    },
    {
      "cell_type": "code",
      "source": [
        "import pandas as pd"
      ],
      "metadata": {
        "id": "3U8iL9Dkcwgm"
      },
      "execution_count": 6,
      "outputs": []
    },
    {
      "cell_type": "code",
      "source": [
        "#Cargar dataframe\n",
        "\n",
        "csv = pd.read_csv('penguins.csv',sep=';')\n",
        "print(csv.head())\n",
        "\n"
      ],
      "metadata": {
        "colab": {
          "base_uri": "https://localhost:8080/"
        },
        "id": "_sMYSXOTczA7",
        "outputId": "6ecaa822-d16d-49f1-e801-ca067533c61a"
      },
      "execution_count": 10,
      "outputs": [
        {
          "output_type": "stream",
          "name": "stdout",
          "text": [
            "   CulmenLength  CulmenDepth  FlipperLength  BodyMass  Species\n",
            "0          39.1         18.7          181.0    3750.0        0\n",
            "1          39.5         17.4          186.0    3800.0        0\n",
            "2          40.3         18.0          195.0    3250.0        0\n",
            "3           NaN          NaN            NaN       NaN        0\n",
            "4          36.7         19.3          193.0    3450.0        0\n"
          ]
        }
      ]
    },
    {
      "cell_type": "code",
      "source": [
        "#paso mi data del csv al un ndarray de numpy\n",
        "data = np.array(csv)\n",
        "print(data)\n",
        "#Compruebo que la fila 3 tiene valores nan\n",
        "print(data[3])"
      ],
      "metadata": {
        "colab": {
          "base_uri": "https://localhost:8080/"
        },
        "id": "etQDYVyOlu2T",
        "outputId": "baee829e-0de1-420b-f4d0-facce38a5c41"
      },
      "execution_count": 12,
      "outputs": [
        {
          "output_type": "stream",
          "name": "stdout",
          "text": [
            "[[3.910e+01 1.870e+01 1.810e+02 3.750e+03 0.000e+00]\n",
            " [3.950e+01 1.740e+01 1.860e+02 3.800e+03 0.000e+00]\n",
            " [4.030e+01 1.800e+01 1.950e+02 3.250e+03 0.000e+00]\n",
            " ...\n",
            " [4.960e+01 1.820e+01 1.930e+02 3.775e+03 2.000e+00]\n",
            " [5.080e+01 1.900e+01 2.100e+02 4.100e+03 2.000e+00]\n",
            " [5.020e+01 1.870e+01 1.980e+02 3.775e+03 2.000e+00]]\n",
            "[nan nan nan nan  0.]\n"
          ]
        }
      ]
    },
    {
      "cell_type": "code",
      "source": [
        "pos_ausentes = np.unique(np.where(np.isnan(data))[0])\n",
        "print('Filas con valores ausentes: ', pos_ausentes)\n",
        "display(pos_ausentes)"
      ],
      "metadata": {
        "colab": {
          "base_uri": "https://localhost:8080/",
          "height": 52
        },
        "id": "ZMnqrdqTmyyQ",
        "outputId": "79973038-2573-471c-c1ff-85618e072557"
      },
      "execution_count": 19,
      "outputs": [
        {
          "output_type": "stream",
          "name": "stdout",
          "text": [
            "Filas con valores ausentes:  [  3 271]\n"
          ]
        },
        {
          "output_type": "display_data",
          "data": {
            "text/plain": [
              "array([  3, 271])"
            ]
          },
          "metadata": {}
        }
      ]
    },
    {
      "cell_type": "code",
      "source": [
        "#Limpieza de datos: imputación valores ausentes (modelo)\n",
        "\n",
        "imputer = SimpleImputer(strategy='mean')\n",
        "\n",
        "data_clean = imputer.fit_transform(data)\n",
        "\n",
        "print(data_clean)\n",
        "print()\n",
        "print(f\"Fila #3 {data_clean[3]}\")\n",
        "print(f\"Fila #271 {data_clean[271]}\")\n",
        "\n",
        "df = pd.DataFrame(data_clean, columns = [\"Culmen length\",\"Culmen depth\",\"Flipper length\",\"Body mass\",\"Especies\"])\n",
        "\n",
        "display(df)\n",
        "\n",
        "df.to_csv('penguins_clean.csv',sep=';')"
      ],
      "metadata": {
        "colab": {
          "base_uri": "https://localhost:8080/",
          "height": 614
        },
        "id": "YAk_jUHNlDAP",
        "outputId": "3f580f5f-0fb6-45dd-90e7-cba53fb3ccd5"
      },
      "execution_count": 28,
      "outputs": [
        {
          "output_type": "stream",
          "name": "stdout",
          "text": [
            "[[3.910e+01 1.870e+01 1.810e+02 3.750e+03 0.000e+00]\n",
            " [3.950e+01 1.740e+01 1.860e+02 3.800e+03 0.000e+00]\n",
            " [4.030e+01 1.800e+01 1.950e+02 3.250e+03 0.000e+00]\n",
            " ...\n",
            " [4.960e+01 1.820e+01 1.930e+02 3.775e+03 2.000e+00]\n",
            " [5.080e+01 1.900e+01 2.100e+02 4.100e+03 2.000e+00]\n",
            " [5.020e+01 1.870e+01 1.980e+02 3.775e+03 2.000e+00]]\n",
            "\n",
            "Fila #3 [  43.92192982   17.15116959  200.91520468 4201.75438596    0.        ]\n",
            "Fila #271 [4.39219298e+01 1.71511696e+01 2.00915205e+02 4.20175439e+03\n",
            " 1.00000000e+00]\n"
          ]
        },
        {
          "output_type": "display_data",
          "data": {
            "text/plain": [
              "     Culmen length  Culmen depth  Flipper length    Body mass  Especies\n",
              "0         39.10000      18.70000      181.000000  3750.000000       0.0\n",
              "1         39.50000      17.40000      186.000000  3800.000000       0.0\n",
              "2         40.30000      18.00000      195.000000  3250.000000       0.0\n",
              "3         43.92193      17.15117      200.915205  4201.754386       0.0\n",
              "4         36.70000      19.30000      193.000000  3450.000000       0.0\n",
              "..             ...           ...             ...          ...       ...\n",
              "339       55.80000      19.80000      207.000000  4000.000000       2.0\n",
              "340       43.50000      18.10000      202.000000  3400.000000       2.0\n",
              "341       49.60000      18.20000      193.000000  3775.000000       2.0\n",
              "342       50.80000      19.00000      210.000000  4100.000000       2.0\n",
              "343       50.20000      18.70000      198.000000  3775.000000       2.0\n",
              "\n",
              "[344 rows x 5 columns]"
            ],
            "text/html": [
              "\n",
              "  <div id=\"df-ca19d316-b395-4687-8fb4-7376b84e92e7\">\n",
              "    <div class=\"colab-df-container\">\n",
              "      <div>\n",
              "<style scoped>\n",
              "    .dataframe tbody tr th:only-of-type {\n",
              "        vertical-align: middle;\n",
              "    }\n",
              "\n",
              "    .dataframe tbody tr th {\n",
              "        vertical-align: top;\n",
              "    }\n",
              "\n",
              "    .dataframe thead th {\n",
              "        text-align: right;\n",
              "    }\n",
              "</style>\n",
              "<table border=\"1\" class=\"dataframe\">\n",
              "  <thead>\n",
              "    <tr style=\"text-align: right;\">\n",
              "      <th></th>\n",
              "      <th>Culmen length</th>\n",
              "      <th>Culmen depth</th>\n",
              "      <th>Flipper length</th>\n",
              "      <th>Body mass</th>\n",
              "      <th>Especies</th>\n",
              "    </tr>\n",
              "  </thead>\n",
              "  <tbody>\n",
              "    <tr>\n",
              "      <th>0</th>\n",
              "      <td>39.10000</td>\n",
              "      <td>18.70000</td>\n",
              "      <td>181.000000</td>\n",
              "      <td>3750.000000</td>\n",
              "      <td>0.0</td>\n",
              "    </tr>\n",
              "    <tr>\n",
              "      <th>1</th>\n",
              "      <td>39.50000</td>\n",
              "      <td>17.40000</td>\n",
              "      <td>186.000000</td>\n",
              "      <td>3800.000000</td>\n",
              "      <td>0.0</td>\n",
              "    </tr>\n",
              "    <tr>\n",
              "      <th>2</th>\n",
              "      <td>40.30000</td>\n",
              "      <td>18.00000</td>\n",
              "      <td>195.000000</td>\n",
              "      <td>3250.000000</td>\n",
              "      <td>0.0</td>\n",
              "    </tr>\n",
              "    <tr>\n",
              "      <th>3</th>\n",
              "      <td>43.92193</td>\n",
              "      <td>17.15117</td>\n",
              "      <td>200.915205</td>\n",
              "      <td>4201.754386</td>\n",
              "      <td>0.0</td>\n",
              "    </tr>\n",
              "    <tr>\n",
              "      <th>4</th>\n",
              "      <td>36.70000</td>\n",
              "      <td>19.30000</td>\n",
              "      <td>193.000000</td>\n",
              "      <td>3450.000000</td>\n",
              "      <td>0.0</td>\n",
              "    </tr>\n",
              "    <tr>\n",
              "      <th>...</th>\n",
              "      <td>...</td>\n",
              "      <td>...</td>\n",
              "      <td>...</td>\n",
              "      <td>...</td>\n",
              "      <td>...</td>\n",
              "    </tr>\n",
              "    <tr>\n",
              "      <th>339</th>\n",
              "      <td>55.80000</td>\n",
              "      <td>19.80000</td>\n",
              "      <td>207.000000</td>\n",
              "      <td>4000.000000</td>\n",
              "      <td>2.0</td>\n",
              "    </tr>\n",
              "    <tr>\n",
              "      <th>340</th>\n",
              "      <td>43.50000</td>\n",
              "      <td>18.10000</td>\n",
              "      <td>202.000000</td>\n",
              "      <td>3400.000000</td>\n",
              "      <td>2.0</td>\n",
              "    </tr>\n",
              "    <tr>\n",
              "      <th>341</th>\n",
              "      <td>49.60000</td>\n",
              "      <td>18.20000</td>\n",
              "      <td>193.000000</td>\n",
              "      <td>3775.000000</td>\n",
              "      <td>2.0</td>\n",
              "    </tr>\n",
              "    <tr>\n",
              "      <th>342</th>\n",
              "      <td>50.80000</td>\n",
              "      <td>19.00000</td>\n",
              "      <td>210.000000</td>\n",
              "      <td>4100.000000</td>\n",
              "      <td>2.0</td>\n",
              "    </tr>\n",
              "    <tr>\n",
              "      <th>343</th>\n",
              "      <td>50.20000</td>\n",
              "      <td>18.70000</td>\n",
              "      <td>198.000000</td>\n",
              "      <td>3775.000000</td>\n",
              "      <td>2.0</td>\n",
              "    </tr>\n",
              "  </tbody>\n",
              "</table>\n",
              "<p>344 rows × 5 columns</p>\n",
              "</div>\n",
              "      <button class=\"colab-df-convert\" onclick=\"convertToInteractive('df-ca19d316-b395-4687-8fb4-7376b84e92e7')\"\n",
              "              title=\"Convert this dataframe to an interactive table.\"\n",
              "              style=\"display:none;\">\n",
              "        \n",
              "  <svg xmlns=\"http://www.w3.org/2000/svg\" height=\"24px\"viewBox=\"0 0 24 24\"\n",
              "       width=\"24px\">\n",
              "    <path d=\"M0 0h24v24H0V0z\" fill=\"none\"/>\n",
              "    <path d=\"M18.56 5.44l.94 2.06.94-2.06 2.06-.94-2.06-.94-.94-2.06-.94 2.06-2.06.94zm-11 1L8.5 8.5l.94-2.06 2.06-.94-2.06-.94L8.5 2.5l-.94 2.06-2.06.94zm10 10l.94 2.06.94-2.06 2.06-.94-2.06-.94-.94-2.06-.94 2.06-2.06.94z\"/><path d=\"M17.41 7.96l-1.37-1.37c-.4-.4-.92-.59-1.43-.59-.52 0-1.04.2-1.43.59L10.3 9.45l-7.72 7.72c-.78.78-.78 2.05 0 2.83L4 21.41c.39.39.9.59 1.41.59.51 0 1.02-.2 1.41-.59l7.78-7.78 2.81-2.81c.8-.78.8-2.07 0-2.86zM5.41 20L4 18.59l7.72-7.72 1.47 1.35L5.41 20z\"/>\n",
              "  </svg>\n",
              "      </button>\n",
              "      \n",
              "  <style>\n",
              "    .colab-df-container {\n",
              "      display:flex;\n",
              "      flex-wrap:wrap;\n",
              "      gap: 12px;\n",
              "    }\n",
              "\n",
              "    .colab-df-convert {\n",
              "      background-color: #E8F0FE;\n",
              "      border: none;\n",
              "      border-radius: 50%;\n",
              "      cursor: pointer;\n",
              "      display: none;\n",
              "      fill: #1967D2;\n",
              "      height: 32px;\n",
              "      padding: 0 0 0 0;\n",
              "      width: 32px;\n",
              "    }\n",
              "\n",
              "    .colab-df-convert:hover {\n",
              "      background-color: #E2EBFA;\n",
              "      box-shadow: 0px 1px 2px rgba(60, 64, 67, 0.3), 0px 1px 3px 1px rgba(60, 64, 67, 0.15);\n",
              "      fill: #174EA6;\n",
              "    }\n",
              "\n",
              "    [theme=dark] .colab-df-convert {\n",
              "      background-color: #3B4455;\n",
              "      fill: #D2E3FC;\n",
              "    }\n",
              "\n",
              "    [theme=dark] .colab-df-convert:hover {\n",
              "      background-color: #434B5C;\n",
              "      box-shadow: 0px 1px 3px 1px rgba(0, 0, 0, 0.15);\n",
              "      filter: drop-shadow(0px 1px 2px rgba(0, 0, 0, 0.3));\n",
              "      fill: #FFFFFF;\n",
              "    }\n",
              "  </style>\n",
              "\n",
              "      <script>\n",
              "        const buttonEl =\n",
              "          document.querySelector('#df-ca19d316-b395-4687-8fb4-7376b84e92e7 button.colab-df-convert');\n",
              "        buttonEl.style.display =\n",
              "          google.colab.kernel.accessAllowed ? 'block' : 'none';\n",
              "\n",
              "        async function convertToInteractive(key) {\n",
              "          const element = document.querySelector('#df-ca19d316-b395-4687-8fb4-7376b84e92e7');\n",
              "          const dataTable =\n",
              "            await google.colab.kernel.invokeFunction('convertToInteractive',\n",
              "                                                     [key], {});\n",
              "          if (!dataTable) return;\n",
              "\n",
              "          const docLinkHtml = 'Like what you see? Visit the ' +\n",
              "            '<a target=\"_blank\" href=https://colab.research.google.com/notebooks/data_table.ipynb>data table notebook</a>'\n",
              "            + ' to learn more about interactive tables.';\n",
              "          element.innerHTML = '';\n",
              "          dataTable['output_type'] = 'display_data';\n",
              "          await google.colab.output.renderOutput(dataTable, element);\n",
              "          const docLink = document.createElement('div');\n",
              "          docLink.innerHTML = docLinkHtml;\n",
              "          element.appendChild(docLink);\n",
              "        }\n",
              "      </script>\n",
              "    </div>\n",
              "  </div>\n",
              "  "
            ]
          },
          "metadata": {}
        }
      ]
    }
  ],
  "metadata": {
    "kernelspec": {
      "display_name": "Python 3",
      "language": "python",
      "name": "python3"
    },
    "language_info": {
      "codemirror_mode": {
        "name": "ipython",
        "version": 3
      },
      "file_extension": ".py",
      "mimetype": "text/x-python",
      "name": "python",
      "nbconvert_exporter": "python",
      "pygments_lexer": "ipython3",
      "version": "3.8.5"
    },
    "colab": {
      "provenance": []
    }
  },
  "nbformat": 4,
  "nbformat_minor": 0
}