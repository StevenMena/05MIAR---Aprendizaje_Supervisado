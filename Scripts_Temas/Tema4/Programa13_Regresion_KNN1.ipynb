{
  "cells": [
    {
      "cell_type": "markdown",
      "metadata": {
        "id": "view-in-github",
        "colab_type": "text"
      },
      "source": [
        "<a href=\"https://colab.research.google.com/github/StevenMena/05MIAR---Aprendizaje_Supervisado/blob/main/Scripts_Temas/Tema4/Programa13_Regresion_KNN1.ipynb\" target=\"_parent\"><img src=\"https://colab.research.google.com/assets/colab-badge.svg\" alt=\"Open In Colab\"/></a>"
      ]
    },
    {
      "cell_type": "code",
      "execution_count": null,
      "metadata": {
        "id": "3FeV6i9jg4OS"
      },
      "outputs": [],
      "source": [
        "import numpy as np\n",
        "from math import sqrt\n",
        "from sklearn import datasets, linear_model, metrics\n",
        "from pprint import pprint\n",
        "from sklearn.metrics import make_scorer\n",
        "from sklearn.model_selection import cross_val_predict, cross_val_score, cross_validate, train_test_split, KFold\n",
        "from sklearn import preprocessing\n",
        "from sklearn.neighbors import KNeighborsRegressor\n",
        "from sklearn.preprocessing import StandardScaler\n",
        "from sklearn.feature_selection import SelectPercentile, f_regression\n",
        "import matplotlib.pyplot as plt\n",
        "import warnings\n",
        "warnings.filterwarnings(\"ignore\")"
      ]
    },
    {
      "cell_type": "code",
      "execution_count": null,
      "metadata": {
        "id": "_sWjAkYOg4Om"
      },
      "outputs": [],
      "source": [
        "# Carga de datos.\n",
        "dataset = datasets.load_boston()\n",
        "X = dataset.data\n",
        "y = dataset.target\n",
        "print(np.shape(X))"
      ]
    },
    {
      "cell_type": "code",
      "execution_count": null,
      "metadata": {
        "id": "6bB0A5P0g4Oo"
      },
      "outputs": [],
      "source": [
        "# Métricas de evaluación.\n",
        "metricas = {'MAE':  'neg_mean_absolute_error',\n",
        "            'RMSE': make_scorer(lambda y, y_pred:\n",
        "                      sqrt(metrics.mean_squared_error(y, y_pred)),\n",
        "                      greater_is_better=False),\n",
        "            'MAPE': make_scorer(lambda y, y_pred:\n",
        "                      np.mean(np.abs((y - y_pred) / y)) * 100,\n",
        "                      greater_is_better=False)}"
      ]
    },
    {
      "cell_type": "markdown",
      "metadata": {
        "id": "-sWSAxi1g4Oq"
      },
      "source": [
        "### 1) PARTICIÓN EXTERNA DE DATOS"
      ]
    },
    {
      "cell_type": "code",
      "execution_count": null,
      "metadata": {
        "id": "W-KKt8T3g4Ot"
      },
      "outputs": [],
      "source": [
        "# 1) Partición de datos externa\n",
        "X_training, X_testing, y_training, y_testing = ???\n",
        "print(np.shape(X_training))\n",
        "print(np.shape(X_testing))"
      ]
    },
    {
      "cell_type": "markdown",
      "metadata": {
        "id": "RP5E-Ge-g4Ov"
      },
      "source": [
        "### 2-5) ENTRENAMIENTO"
      ]
    },
    {
      "cell_type": "code",
      "execution_count": null,
      "metadata": {
        "id": "MbKka9Eng4Ow"
      },
      "outputs": [],
      "source": [
        "# 2) Extracción de características\n",
        "# 3) Selección de atributos"
      ]
    },
    {
      "cell_type": "code",
      "execution_count": null,
      "metadata": {
        "id": "SA5LW29cg4Oy"
      },
      "outputs": [],
      "source": [
        "# 4) Estandarización de los datos de entrenamiento\n",
        "standardizer = preprocessing.StandardScaler()\n",
        "X_stdr = standardizer.fit_transform(X_training)"
      ]
    },
    {
      "cell_type": "code",
      "execution_count": null,
      "metadata": {
        "id": "-2WrTva8g4O0"
      },
      "outputs": [],
      "source": [
        "# 5) Construcción del algoritmo de aprendizaje.\n",
        "k = 10\n",
        "reg = KNeighborsRegressor(n_neighbors = k, weights='distance', metric='euclidean')"
      ]
    },
    {
      "cell_type": "code",
      "execution_count": null,
      "metadata": {
        "id": "BUw5t9hZg4O1"
      },
      "outputs": [],
      "source": [
        "# 5.1) Validación cruzada interna\n",
        "\n",
        "# Extraer MEAN +- STD del coeficiente de determinación (R2) para un cross validation de 5 bolsas aleatorias y semilla en 42\n",
        "r2_cv_results = ???\n",
        "print(\"cross_val_R2:   %0.4f +/- %0.4f\" % (r2_cv_results.mean(), r2_cv_results.std()))"
      ]
    },
    {
      "cell_type": "code",
      "execution_count": null,
      "metadata": {
        "id": "eHiGvVqYg4O2"
      },
      "outputs": [],
      "source": [
        "# Extraer métricas MAE, MSE, RMSE y MAPE en un cross validation para 5 bolsas aleatorias y semilla en 42\n",
        "metrics_cv_results = ???\n",
        "pprint(metrics_cv_results)"
      ]
    },
    {
      "cell_type": "code",
      "execution_count": null,
      "metadata": {
        "id": "M-dYsX5jg4O3"
      },
      "outputs": [],
      "source": [
        "# Extraer las predicciones del cross validation de 5 bolsas aleatorias y semilla en 42\n",
        "y_pred = ???"
      ]
    },
    {
      "cell_type": "code",
      "execution_count": null,
      "metadata": {
        "id": "IYFAIAMpg4O4"
      },
      "outputs": [],
      "source": [
        "# Crear una función que dadas las variables \"y\" e \"y_pred\" se visualice la bisectriz y la recta de regresión\n",
        "def report_regression_graphics(y_true, y_pred):\n",
        "    fig, ax = plt.subplots(2,1)\n",
        "\n",
        "    # Plot linear fit\n",
        "    ax[0].scatter(y_true, y_pred)\n",
        "    ax[0].set_ylabel('y_pred')\n",
        "    ax[0].set_title('Regression line')\n",
        "    ax[0].grid()\n",
        "    # overlay the regression line\n",
        "    z = np.polyfit(np.float64(y_true), y_pred, 1)\n",
        "    p = np.poly1d(z)\n",
        "    ax[0].plot(y_true, p(y_true), color='magenta')\n",
        "\n",
        "    # Plot bisectriz\n",
        "    ax[1].scatter(y_true, y_pred, edgecolors=(0, 0, 0))\n",
        "    ax[1].set_xlabel('y_true')\n",
        "    ax[1].set_ylabel('y_pred')\n",
        "    ax[1].set_title('Bisector')\n",
        "    ax[1].plot([y_true.min(), y_true.max()], [y_true.min(), y_true.max()], 'k--', lw=4)\n",
        "    ax[1].grid()\n",
        "\n",
        "# Visualiza la bisetriz y recta de regresión\n",
        "???"
      ]
    },
    {
      "cell_type": "code",
      "execution_count": null,
      "metadata": {
        "id": "i7gDcC0pg4O4"
      },
      "outputs": [],
      "source": [
        "# 5.2) Entrenamiento del modelo definitivo\n",
        "model = reg.fit(X_stdr, y_training)"
      ]
    },
    {
      "cell_type": "markdown",
      "metadata": {
        "id": "A0hwSSSIg4O5"
      },
      "source": [
        "### 6-10) PREDICCIÓN"
      ]
    },
    {
      "cell_type": "code",
      "execution_count": null,
      "metadata": {
        "id": "PorgQ-PLg4O6"
      },
      "outputs": [],
      "source": [
        "# 6) Extracción de las características de test\n",
        "# 7) Selección de los atributos de test "
      ]
    },
    {
      "cell_type": "code",
      "execution_count": null,
      "metadata": {
        "id": "X7UPRczfg4O6"
      },
      "outputs": [],
      "source": [
        "# 8) Estandarización de las característiacs de test\n",
        "X_test_stdr = standardizer.transform(X_testing)"
      ]
    },
    {
      "cell_type": "code",
      "execution_count": null,
      "metadata": {
        "id": "PXWYOKVyg4O7"
      },
      "outputs": [],
      "source": [
        "# 9) Predicción del conjunto de test\n",
        "y_pred_test = model.predict(X_test_stdr)"
      ]
    },
    {
      "cell_type": "code",
      "execution_count": null,
      "metadata": {
        "id": "vHvsX0pJg4O7"
      },
      "outputs": [],
      "source": [
        "# 10) Evaluación del modelo sobre el conjunto de test\n",
        "MAE = metrics.mean_absolute_error(y_testing, y_pred_test)\n",
        "MSE = metrics.mean_squared_error(y_testing, y_pred_test, squared=True)\n",
        "RMSE = metrics.mean_squared_error(y_testing, y_pred_test, squared=False)\n",
        "R2 = metrics.r2_score(y_testing, y_pred_test)\n",
        "\n",
        "print('MAE:  %.4f' % MAE)\n",
        "print('MSE: %.4f' % MSE)\n",
        "print('RMSE: %.4f' % RMSE)\n",
        "print('R2:   %.4f' % R2)\n",
        "\n",
        "# Visualización de resultados\n",
        "report_regression_graphics(y_testing, y_pred_test)"
      ]
    },
    {
      "cell_type": "markdown",
      "metadata": {
        "id": "XPcSUpbLg4O8"
      },
      "source": [
        "### ACTIVIDAD EXTRA"
      ]
    },
    {
      "cell_type": "markdown",
      "metadata": {
        "id": "yKV0rbOBg4O9"
      },
      "source": [
        "#### Entrenar el mejor modelo posible con el algoritmo KNN y comparar el resultado con el modelo OLS en test"
      ]
    },
    {
      "cell_type": "code",
      "execution_count": null,
      "metadata": {
        "id": "eZ399hk0g4O9"
      },
      "outputs": [],
      "source": [
        "from sklearn.model_selection import GridSearchCV\n",
        "# Definir parámetros de búsqueda\n",
        "???\n",
        "\n",
        "# Aplicar el algoritmo de búsqueda\n",
        "???\n",
        "\n",
        "# Entrenar el modelo\n",
        "???\n",
        "\n",
        "# Extraer los mejores parámetros\n",
        "???"
      ]
    },
    {
      "cell_type": "code",
      "execution_count": null,
      "metadata": {
        "id": "jqj32Z1Pg4O-"
      },
      "outputs": [],
      "source": [
        "# Entrenar cada algoritmo y comparar los resultados (a nivel cuantitativo y cualitativo) sobre el conjunto de test\n",
        "???"
      ]
    }
  ],
  "metadata": {
    "kernelspec": {
      "display_name": "Python 3",
      "language": "python",
      "name": "python3"
    },
    "language_info": {
      "codemirror_mode": {
        "name": "ipython",
        "version": 3
      },
      "file_extension": ".py",
      "mimetype": "text/x-python",
      "name": "python",
      "nbconvert_exporter": "python",
      "pygments_lexer": "ipython3",
      "version": "3.8.5"
    },
    "colab": {
      "provenance": [],
      "include_colab_link": true
    }
  },
  "nbformat": 4,
  "nbformat_minor": 0
}