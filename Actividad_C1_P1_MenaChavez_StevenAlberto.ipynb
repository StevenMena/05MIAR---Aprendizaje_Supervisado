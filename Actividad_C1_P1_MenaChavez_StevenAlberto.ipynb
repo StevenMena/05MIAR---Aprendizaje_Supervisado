{
  "cells": [
    {
      "cell_type": "markdown",
      "metadata": {
        "id": "view-in-github",
        "colab_type": "text"
      },
      "source": [
        "<a href=\"https://colab.research.google.com/github/StevenMena/05MIAR---Aprendizaje_Supervisado/blob/main/Actividad_C1_P1_MenaChavez_StevenAlberto.ipynb\" target=\"_parent\"><img src=\"https://colab.research.google.com/assets/colab-badge.svg\" alt=\"Open In Colab\"/></a>"
      ]
    },
    {
      "cell_type": "markdown",
      "metadata": {
        "id": "6qeurdFKmEhz"
      },
      "source": [
        "## Convocatoria 1 - Proyecto 1"
      ]
    },
    {
      "cell_type": "markdown",
      "metadata": {
        "id": "LBzbv01OmEh4"
      },
      "source": [
        "#### 0) Cargar una de las imágenes histológicas"
      ]
    },
    {
      "cell_type": "code",
      "execution_count": null,
      "metadata": {
        "id": "AEUPI23cmEh6"
      },
      "outputs": [],
      "source": [
        "# Utilizar la librería skimage.io para leer la imagen 'histo_x.jpg' en formato RGB.\n",
        "# Normalizar la imagen para que los píxeles se encuentren en el rango [0, 1]\n",
        "# Visualizar la imagen"
      ]
    },
    {
      "cell_type": "markdown",
      "metadata": {
        "id": "9jpTbezDmEh8"
      },
      "source": [
        "#### 1) Realizar una transformación de color para convertir la imagen al espacio de color CMYK"
      ]
    },
    {
      "cell_type": "code",
      "execution_count": null,
      "metadata": {
        "id": "srwjxbdhmEh9"
      },
      "outputs": [],
      "source": [
        "# Extraer la componente magenta de la imagen (que corresponde a la región tisular)\n",
        "# Visualizar la imagen del canal magenta"
      ]
    },
    {
      "cell_type": "markdown",
      "metadata": {
        "id": "Z0bwgWvCmEh-"
      },
      "source": [
        "#### 2) Umbralizar la imagen para separar los píxeles del fondo de la región tisular"
      ]
    },
    {
      "cell_type": "code",
      "execution_count": null,
      "metadata": {
        "id": "YSqkaEIpmEh_"
      },
      "outputs": [],
      "source": [
        "# Aplicar un filtro gaussiano de tamaño 5x5 y después utilizar el método de Otsu de manera que\n",
        "# los píxeles correspondientes al lumen y al background de la imagen sean 1s y el resto de los píxeles tengan un valor de 0.\n",
        "# Nota: Recordar que el método de Otsu requiere como input una imagen en el rango [0-255] en formato \"uint8\".\n",
        "# Visualizar la máscara resultante"
      ]
    },
    {
      "cell_type": "markdown",
      "metadata": {
        "id": "ZPKWDdPumEiA"
      },
      "source": [
        "#### 3) Limpiar la imagen eliminando los artefactos de lumen (objetos blancos pequeños que no son lúmenes)"
      ]
    },
    {
      "cell_type": "code",
      "execution_count": null,
      "metadata": {
        "id": "BAGNgHoHmEiB"
      },
      "outputs": [],
      "source": [
        "# Utilizar la librería skimage.morphology.remove_small_objects para eliminar aquellos objetos cuya área sea menor a 300 píxeles\n",
        "# Más información en https://scikit-image.org/docs/dev/api/skimage.morphology.html#skimage.morphology.remove_small_objects\n",
        "# Visualizaer la máscara resultante"
      ]
    },
    {
      "cell_type": "markdown",
      "metadata": {
        "id": "i5qlnJy0mEiC"
      },
      "source": [
        "#### 4) Rellenar con 0s el fondo de la imagen para quedarnos únicamente con los lúmenes"
      ]
    },
    {
      "cell_type": "code",
      "execution_count": null,
      "metadata": {
        "id": "kyU4FVohmEiC"
      },
      "outputs": [],
      "source": [
        "# Aplicar el algoritmo de expansión a partir de semillas (region growing) de manera que únicamente los lúmenes sean blancos\n",
        "# y el resto de la imagen negra. Pista: utilizar dos semillas. Nota: Se pueden fijar las semillas de manera manual, pero\n",
        "# se valorará positivamente a aquell@s que desarrollen una función para encontrarlas automáticamente.\n",
        "# Visualizar la máscara resultante. "
      ]
    },
    {
      "cell_type": "markdown",
      "metadata": {
        "id": "f6UmKLN4mEiD"
      },
      "source": [
        "#### 5) Rellenar los objetos de los lúmenes"
      ]
    },
    {
      "cell_type": "code",
      "execution_count": null,
      "metadata": {
        "id": "qYUMZD46mEiE"
      },
      "outputs": [],
      "source": [
        "# Rellenar los lúmenes con la función binary_fill_holes de la librería scipy.ndimage.morphology\n",
        "# Visualizar la máscara resultante"
      ]
    },
    {
      "cell_type": "markdown",
      "metadata": {
        "id": "5jA9nfbQmEiE"
      },
      "source": [
        "#### 6) Detectar y dibujar los contornos de los lúmenes sobre la imagen original"
      ]
    },
    {
      "cell_type": "code",
      "execution_count": null,
      "metadata": {
        "id": "ZLwtNEojmEiF"
      },
      "outputs": [],
      "source": [
        "# Dibujar los contornos de los lúmenes en color verde sobre la imagen original RGB. Nota: Utilizar los flags necesarios\n",
        "# para que los contornos en verde sean perfectamente visibles. \n",
        "# Visualizar la imagen superpuesta"
      ]
    },
    {
      "cell_type": "markdown",
      "metadata": {
        "id": "XDdxYcIlmEiF"
      },
      "source": [
        "#### 7) Identificar y cropear el lumen más grande"
      ]
    },
    {
      "cell_type": "code",
      "execution_count": null,
      "metadata": {
        "id": "YynaHNsUmEiF"
      },
      "outputs": [],
      "source": [
        "# Determinar cuál es el lumen de mayor área y hacer un crop del mismo sobre la imagen original RGB.\n",
        "# Visualizar el lumen cropeado."
      ]
    },
    {
      "cell_type": "markdown",
      "metadata": {
        "id": "A2jWCHzhmEiG"
      },
      "source": [
        "#### 8) Extraer 13 características geométricas que permitan caracterizar el lumen recortado "
      ]
    },
    {
      "cell_type": "code",
      "execution_count": null,
      "metadata": {
        "id": "5l0wPIdPmEiH"
      },
      "outputs": [],
      "source": [
        "# Calcular las siguientes características del crop del lumen de mayor área, redondeando su valor hasta el cuarto decimal.\n",
        "# 1) Área\n",
        "# 2) Área de la bounding box\n",
        "# 3) Área convexa\n",
        "# 4) Exentricidad\n",
        "# 5) Diámetro equivalente\n",
        "# 6) Extensión\n",
        "# 7) Diámetro Feret\n",
        "# 8) Longitud del eje mayor\n",
        "# 9) Longitud del eje menor\n",
        "# 10) Orientación\n",
        "# 11) Perímetro\n",
        "# 12) Solidez\n",
        "# 13) Compacidad"
      ]
    }
  ],
  "metadata": {
    "kernelspec": {
      "display_name": "Python 3",
      "language": "python",
      "name": "python3"
    },
    "language_info": {
      "codemirror_mode": {
        "name": "ipython",
        "version": 3
      },
      "file_extension": ".py",
      "mimetype": "text/x-python",
      "name": "python",
      "nbconvert_exporter": "python",
      "pygments_lexer": "ipython3",
      "version": "3.8.5"
    },
    "colab": {
      "provenance": [],
      "include_colab_link": true
    }
  },
  "nbformat": 4,
  "nbformat_minor": 0
}