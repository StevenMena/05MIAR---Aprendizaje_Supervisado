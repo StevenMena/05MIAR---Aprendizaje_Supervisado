{
  "cells": [
    {
      "cell_type": "markdown",
      "metadata": {
        "id": "view-in-github",
        "colab_type": "text"
      },
      "source": [
        "<a href=\"https://colab.research.google.com/github/StevenMena/05MIAR---Aprendizaje_Supervisado/blob/main/Scripts_Temas/Tema4/Programa13_Regresion_KNN1.ipynb\" target=\"_parent\"><img src=\"https://colab.research.google.com/assets/colab-badge.svg\" alt=\"Open In Colab\"/></a>"
      ]
    },
    {
      "cell_type": "code",
      "execution_count": null,
      "metadata": {
        "id": "3FeV6i9jg4OS"
      },
      "outputs": [],
      "source": [
        "import numpy as np\n",
        "import pandas as pd\n",
        "from math import sqrt\n",
        "from sklearn import datasets, linear_model, metrics\n",
        "from pprint import pprint\n",
        "from sklearn.metrics import make_scorer, r2_score\n",
        "from sklearn.model_selection import cross_val_predict, cross_val_score, cross_validate, train_test_split, KFold\n",
        "from sklearn import preprocessing\n",
        "from sklearn.neighbors import KNeighborsRegressor\n",
        "from sklearn.preprocessing import StandardScaler\n",
        "from sklearn.feature_selection import SelectPercentile, f_regression\n",
        "import matplotlib.pyplot as plt\n",
        "import warnings\n",
        "warnings.filterwarnings(\"ignore\")"
      ]
    },
    {
      "cell_type": "code",
      "execution_count": null,
      "metadata": {
        "id": "_sWjAkYOg4Om",
        "outputId": "b78e8381-ef79-470a-e787-958310e49a64",
        "colab": {
          "base_uri": "https://localhost:8080/"
        }
      },
      "outputs": [
        {
          "output_type": "stream",
          "name": "stdout",
          "text": [
            "(506, 13)\n"
          ]
        }
      ],
      "source": [
        "# Carga de datos.\n",
        "\n",
        "data_url = \"http://lib.stat.cmu.edu/datasets/boston\"\n",
        "raw_df = pd.read_csv(data_url, sep=\"\\s+\", skiprows=22, header=None)\n",
        "data = np.hstack([raw_df.values[::2, :], raw_df.values[1::2, :2]])\n",
        "target = raw_df.values[1::2, 2]\n",
        "\n",
        "X = data\n",
        "y = target\n",
        "print(np.shape(X))"
      ]
    },
    {
      "cell_type": "code",
      "execution_count": null,
      "metadata": {
        "id": "6bB0A5P0g4Oo"
      },
      "outputs": [],
      "source": [
        "# Métricas de evaluación.\n",
        "metricas = {'MAE':  'neg_mean_absolute_error',\n",
        "            'RMSE': make_scorer(lambda y, y_pred:\n",
        "                      sqrt(metrics.mean_squared_error(y, y_pred)),\n",
        "                      greater_is_better=False),\n",
        "            'MAPE': make_scorer(lambda y, y_pred:\n",
        "                      np.mean(np.abs((y - y_pred) / y)) * 100,\n",
        "                      greater_is_better=False)}"
      ]
    },
    {
      "cell_type": "markdown",
      "metadata": {
        "id": "-sWSAxi1g4Oq"
      },
      "source": [
        "### 1) PARTICIÓN EXTERNA DE DATOS"
      ]
    },
    {
      "cell_type": "code",
      "execution_count": null,
      "metadata": {
        "id": "W-KKt8T3g4Ot",
        "outputId": "5f6a8dd6-1e9a-4506-bc98-0bc85366864d",
        "colab": {
          "base_uri": "https://localhost:8080/"
        }
      },
      "outputs": [
        {
          "output_type": "stream",
          "name": "stdout",
          "text": [
            "(404, 13)\n",
            "(102, 13)\n"
          ]
        }
      ],
      "source": [
        "\n",
        "# 1) Partición de datos externa\n",
        "X_training, X_testing, y_training, y_testing = train_test_split(X,y,test_size=0.2,shuffle=True,random_state=42)\n",
        "print(np.shape(X_training))\n",
        "print(np.shape(X_testing))"
      ]
    },
    {
      "cell_type": "markdown",
      "metadata": {
        "id": "RP5E-Ge-g4Ov"
      },
      "source": [
        "### 2-5) ENTRENAMIENTO"
      ]
    },
    {
      "cell_type": "code",
      "execution_count": null,
      "metadata": {
        "id": "MbKka9Eng4Ow"
      },
      "outputs": [],
      "source": [
        "# 2) Extracción de características"
      ]
    },
    {
      "cell_type": "code",
      "execution_count": null,
      "metadata": {
        "id": "SA5LW29cg4Oy"
      },
      "outputs": [],
      "source": [
        "# 3) Estandarización de los datos de entrenamiento\n",
        "standardizer = preprocessing.StandardScaler()\n",
        "X_stdr = standardizer.fit_transform(X_training)"
      ]
    },
    {
      "cell_type": "code",
      "source": [
        "# 4) Selección de atributos"
      ],
      "metadata": {
        "id": "eYGfKYkmh8gz"
      },
      "execution_count": null,
      "outputs": []
    },
    {
      "cell_type": "code",
      "execution_count": null,
      "metadata": {
        "id": "-2WrTva8g4O0"
      },
      "outputs": [],
      "source": [
        "# 5) Construcción del algoritmo de aprendizaje.\n",
        "k = 2\n",
        "# Weights es el atributo que hace referencia a como se deben de tener en cuenta los vecinos en este caso si se pone distance \n",
        "# Se ponderas los vecinos por sus distancias el que tenga menor distancia \n",
        "reg = KNeighborsRegressor(n_neighbors = k, weights='distance', metric='euclidean', algorithm='ball_tree')"
      ]
    },
    {
      "cell_type": "code",
      "execution_count": null,
      "metadata": {
        "id": "BUw5t9hZg4O1",
        "outputId": "e163f4dc-043e-481a-9358-c02e35f26724",
        "colab": {
          "base_uri": "https://localhost:8080/"
        }
      },
      "outputs": [
        {
          "output_type": "stream",
          "name": "stdout",
          "text": [
            "cross_val_R2:   0.7469 +/- 0.1131\n"
          ]
        }
      ],
      "source": [
        "# 5.1) Validación cruzada interna\n",
        "\n",
        "#OJO AUI SIEMPRE VAN LOS ATRIBUTOS ESTANDARIZADOS\n",
        "# Extraer MEAN +- STD del coeficiente de determinación (R2) para un cross validation de 5 bolsas aleatorias y semilla en 42\n",
        "r2_cv_results = cross_val_score(reg,X_stdr,y_training,cv=KFold(n_splits=5, shuffle=True, random_state=42))\n",
        "print(\"cross_val_R2:   %0.4f +/- %0.4f\" % (r2_cv_results.mean(), r2_cv_results.std()))"
      ]
    },
    {
      "cell_type": "code",
      "execution_count": null,
      "metadata": {
        "id": "eHiGvVqYg4O2",
        "outputId": "41625f72-e3db-4530-eac2-46fab949b4fa",
        "colab": {
          "base_uri": "https://localhost:8080/"
        }
      },
      "outputs": [
        {
          "output_type": "stream",
          "name": "stdout",
          "text": [
            "{'fit_time': array([0.00120473, 0.00104046, 0.00127482, 0.00107479, 0.00065613]),\n",
            " 'score_time': array([0.0082376 , 0.00212908, 0.00213337, 0.00151777, 0.00130582]),\n",
            " 'test_MAE': array([-4.12353135, -4.08313972, -5.45566244, -5.31437285, -3.61430862]),\n",
            " 'test_MAPE': array([-22.1548505 , -18.01388246, -23.47927786, -22.18658919,\n",
            "       -18.00196191]),\n",
            " 'test_RMSE': array([-5.72149584, -6.34282712, -8.49395922, -7.40288975, -4.70426306])}\n"
          ]
        }
      ],
      "source": [
        "# Extraer métricas MAE, MSE, RMSE y MAPE en un cross validation para 5 bolsas aleatorias y semilla en 42\n",
        "metrics_cv_results = cross_validate(reg,X_training,y_training,cv=KFold(n_splits=5, shuffle=True, random_state=42),scoring=metricas)\n",
        "pprint(metrics_cv_results)"
      ]
    },
    {
      "cell_type": "code",
      "execution_count": null,
      "metadata": {
        "id": "M-dYsX5jg4O3",
        "outputId": "91e417f9-6e4b-4b27-a81a-6a5b0e733dd5",
        "colab": {
          "base_uri": "https://localhost:8080/"
        }
      },
      "outputs": [
        {
          "output_type": "stream",
          "name": "stdout",
          "text": [
            "[14.57093471 20.67262228 23.7        13.45461427 21.70265937 23.53728567\n",
            " 21.03869329 25.55318796 10.35594325 19.13713571 21.97575128 34.75269196\n",
            " 32.98753138 12.46119751 35.0199713  14.70629829 22.83769355 22.09041645\n",
            " 21.99756867 27.21680715 13.3528804  21.880641   26.06649088 22.77749876\n",
            " 32.60504255 34.8619539  17.81865495 29.12908145 18.41165992 19.50578299\n",
            " 14.9616671  16.03603645 16.56327158 12.39066155 20.97847157 26.30116639\n",
            " 28.98822217 17.27620561 24.19602111 27.47368557 33.90738616 25.77037432\n",
            " 22.38246956 28.8755144  23.83002893 14.21190558 16.66829109 29.33621933\n",
            " 13.33709448 16.29813321 28.57222191 20.85840501 21.15047317 25.84550634\n",
            " 22.40455846 38.34727604 21.45690676  8.62556998 36.62962165 22.93276349\n",
            " 22.80592099 22.55168722 41.70842453 18.00981367 39.61306239 17.8\n",
            " 16.54412406 18.11189734 16.49188051 19.46389675 23.88718906 33.71840294\n",
            " 21.43409955 17.05374413 20.81896867 23.04758141 30.24397695 27.61496544\n",
            " 14.44706669 11.81496774 11.35664947 16.03331215 32.50066217 30.44638762\n",
            " 13.44328447 17.94287546 42.97121097 25.33022823 26.99266979 17.31918414\n",
            " 23.90429512 13.0553799   9.89198934 30.60991135 30.61007093 19.39939518\n",
            " 17.42447101 16.93113735 21.33917561 23.33062239 30.77790318 34.28605887\n",
            " 30.48784689 23.27296552 21.28127799 41.9224216  25.99548564 45.65190094\n",
            " 23.6740506  20.09397671 10.04947183 27.84104209 19.69108158 23.68608318\n",
            " 30.55707124 20.6        16.59208094 10.5        22.19969313 41.95723535\n",
            " 34.76885135  7.50103576 12.9530066  22.44781859 28.96890004 16.36696192\n",
            " 43.52442689 18.60726089 20.26887259 10.5        30.42357615 19.07271632\n",
            " 29.05917786 39.87919927 20.68158906 33.46304803 19.23870881 21.31903369\n",
            " 29.28278456 36.63280038 26.83903895 11.93320489 35.23832459 18.95470855\n",
            " 18.22154219 17.3975712  19.44359041 19.35556751 25.60643067 19.66682847\n",
            " 22.54421702 13.45569163 27.75816935 21.71028256 28.56846847 11.41439843\n",
            " 15.38998734 14.56850278 12.49005488 15.26719602 21.46069339 17.74967161\n",
            " 14.10967615 27.0014889  12.99185331 19.90157559 33.16015118 21.40579846\n",
            " 48.39197404 19.72178052 35.67863279 23.31657747 23.93879402 21.18088447\n",
            " 25.4303727  21.5477614   9.81520822 18.34736453 28.54147655 20.39828661\n",
            " 27.84111549 22.21214429 13.14656427 25.62751308 17.92731819 13.46195633\n",
            " 29.50773089 23.49662389  5.95443011 21.11067684 20.69701749 25.17064746\n",
            " 21.4370675  20.89641342 14.28963193 18.85374247 42.74829789 35.37148052\n",
            " 20.15606788 20.6859881  20.91703748 12.6267576  36.55229741 22.12071159\n",
            " 50.         17.44603543 20.23474462 33.1454102  37.96347878 17.15658226\n",
            " 24.34379365 33.55431974 37.73408631 13.05970893 23.30621988 17.98175229\n",
            " 20.01763034  8.51232911 19.35017531  9.04211946 13.73286032 18.62098094\n",
            " 12.65191136 20.69166148 23.52111437 31.86241401 29.43653289 21.7505721\n",
            " 21.19159906 35.21520553 13.4        44.32044146 26.00406397 31.301843\n",
            " 17.63733432 22.60275184 14.55947977 17.8        22.50327603 17.40577021\n",
            " 20.89755285 21.86241441 21.49267516 11.94459548 12.6376413  26.45992224\n",
            " 25.11856306 10.77058994 23.20645922 22.8525846  40.13166736 27.68101401\n",
            " 14.17190468 24.5454695  30.76591013 15.25772812 19.80561901 39.62184027\n",
            " 13.6462475  32.59306739 15.16042038 21.76171499 22.72835734 36.65233227\n",
            " 22.28285577 33.34528359 18.07671336 13.59664573 26.80615104 21.04121955\n",
            " 26.3874689  18.41317576 13.87223844 14.73810299 26.91989345 46.85807013\n",
            " 22.64911343 42.76123395 12.84933991 17.95721726 18.92431519 17.89868418\n",
            " 18.601192   21.55988184 17.99624002 26.84341888 22.15361774 34.7128339\n",
            " 24.00834182 19.69814776 17.77198016 32.09711158  9.42633467 13.20866366\n",
            " 15.8864727  23.32891888 28.17957992 12.41716637 23.62197125 21.54275518\n",
            " 36.19214464 20.25065773 23.80776367 22.47415414 20.85654146 28.49383946\n",
            " 21.7554712  22.2944694  26.3252613  25.81590634 28.54621891 21.37694823\n",
            " 46.77848116 25.9839659  23.36529165 11.80471048 30.0674679  17.41178876\n",
            " 33.26195564 19.66627406 25.96838326 12.93287509 17.80143612 19.19537267\n",
            " 19.51368357 22.94850886 13.15622657 23.14294441 23.97086478 13.40203994\n",
            " 12.99554874 33.34187976 11.70098052 15.58293217 29.95778606 20.64335095\n",
            " 13.6033227  24.5724878  23.23736352 45.78938394 20.68778673 20.38255713\n",
            " 20.19284247 22.94855694 10.09835794 23.0504152  33.13017304 21.11361555\n",
            " 19.35099737 21.34364725 33.24001231 21.4058778  20.14207017 22.18658357\n",
            " 33.45292505 18.70903006 20.77021941 21.16500446 24.03821367 12.05844948\n",
            " 31.59668969 19.20835755 19.94173868 33.76017353 16.32927931 26.25545481\n",
            " 17.45786232 27.53320861 33.15622152 33.09005786 16.86285473 22.30487005\n",
            " 19.42024923 16.92903494 32.35386994 15.31399699 33.74513783  8.21053023\n",
            " 26.33038519 21.66929275 27.67475335 42.94209435 26.8721944  18.48472111\n",
            " 18.04314952 17.68091546 20.58329843 24.64508854 20.70231352 25.76200813\n",
            " 15.37391733 20.67896376 18.82320506  9.8744316  21.59001366 21.55594008\n",
            " 15.44625171 33.22269084 38.08679147 19.44986691 29.69674537 31.1743355\n",
            " 12.89507722 14.38223149]\n"
          ]
        }
      ],
      "source": [
        "# Extraer las predicciones del cross validation de 5 bolsas aleatorias y semilla en 42\n",
        "y_pred = cross_val_predict(reg,X_training,y_training,cv=KFold(n_splits=5, shuffle=True, random_state=42))\n",
        "print(y_pred)"
      ]
    },
    {
      "cell_type": "code",
      "execution_count": null,
      "metadata": {
        "id": "IYFAIAMpg4O4",
        "outputId": "d34b479f-96b2-4cbc-f900-b777f1dbe1b5",
        "colab": {
          "base_uri": "https://localhost:8080/",
          "height": 296
        }
      },
      "outputs": [
        {
          "output_type": "display_data",
          "data": {
            "text/plain": [
              "<Figure size 432x288 with 2 Axes>"
            ],
            "image/png": "[encoded data removed]"
          },
          "metadata": {
            "needs_background": "light"
          }
        }
      ],
      "source": [
        "# Crear una función que dadas las variables \"y\" e \"y_pred\" se visualice la bisectriz y la recta de regresión\n",
        "def report_regression_graphics(y_true, y_pred):\n",
        "    fig, ax = plt.subplots(2,1)\n",
        "\n",
        "    # Plot linear fit\n",
        "    ax[0].scatter(y_true, y_pred)\n",
        "    ax[0].set_ylabel('y_pred')\n",
        "    ax[0].set_title('Regression line')\n",
        "    ax[0].grid()\n",
        "    # overlay the regression line\n",
        "    z = np.polyfit(np.float64(y_true), y_pred, 1)\n",
        "    p = np.poly1d(z)\n",
        "    ax[0].plot(y_true, p(y_true), color='magenta')\n",
        "\n",
        "    # Plot bisectriz\n",
        "    ax[1].scatter(y_true, y_pred, edgecolors=(0, 0, 0))\n",
        "    ax[1].set_xlabel('y_true')\n",
        "    ax[1].set_ylabel('y_pred')\n",
        "    ax[1].set_title('Bisector')\n",
        "    ax[1].plot([y_true.min(), y_true.max()], [y_true.min(), y_true.max()], 'k--', lw=4)\n",
        "    ax[1].grid()\n",
        "\n",
        "# Visualiza la bisetriz y recta de regresión\n",
        "report_regression_graphics(y_training,y_pred)"
      ]
    },
    {
      "cell_type": "code",
      "execution_count": null,
      "metadata": {
        "id": "i7gDcC0pg4O4"
      },
      "outputs": [],
      "source": [
        "# 5.2) Entrenamiento del modelo definitivo\n",
        "model = reg.fit(X_stdr, y_training)"
      ]
    },
    {
      "cell_type": "markdown",
      "metadata": {
        "id": "A0hwSSSIg4O5"
      },
      "source": [
        "### 6-10) PREDICCIÓN"
      ]
    },
    {
      "cell_type": "code",
      "execution_count": null,
      "metadata": {
        "id": "PorgQ-PLg4O6"
      },
      "outputs": [],
      "source": [
        "# 6) Extracción de las características de test\n"
      ]
    },
    {
      "cell_type": "code",
      "execution_count": null,
      "metadata": {
        "id": "X7UPRczfg4O6"
      },
      "outputs": [],
      "source": [
        "# 7) Estandarización de las característiacs de test\n",
        "X_test_stdr = standardizer.transform(X_testing)"
      ]
    },
    {
      "cell_type": "code",
      "source": [
        "# 8) Selección de los atributos de test "
      ],
      "metadata": {
        "id": "9msProaGkbMk"
      },
      "execution_count": null,
      "outputs": []
    },
    {
      "cell_type": "code",
      "execution_count": null,
      "metadata": {
        "id": "PXWYOKVyg4O7"
      },
      "outputs": [],
      "source": [
        "# 9) Predicción del conjunto de test\n",
        "y_pred_test = model.predict(X_test_stdr)"
      ]
    },
    {
      "cell_type": "code",
      "execution_count": null,
      "metadata": {
        "id": "vHvsX0pJg4O7",
        "outputId": "a0881a4f-8d20-4159-a903-43c15509a33e",
        "colab": {
          "base_uri": "https://localhost:8080/",
          "height": 365
        }
      },
      "outputs": [
        {
          "output_type": "stream",
          "name": "stdout",
          "text": [
            "MAE:  2.6974\n",
            "MSE: 22.6257\n",
            "RMSE: 4.7566\n",
            "R2:   0.6915\n"
          ]
        },
        {
          "output_type": "display_data",
          "data": {
            "text/plain": [
              "<Figure size 432x288 with 2 Axes>"
            ],
            "image/png": "[encoded data removed]"
          },
          "metadata": {
            "needs_background": "light"
          }
        }
      ],
      "source": [
        "# 10) Evaluación del modelo sobre el conjunto de test\n",
        "MAE = metrics.mean_absolute_error(y_testing, y_pred_test)\n",
        "MSE = metrics.mean_squared_error(y_testing, y_pred_test, squared=True)\n",
        "RMSE = metrics.mean_squared_error(y_testing, y_pred_test, squared=False)\n",
        "R2 = metrics.r2_score(y_testing, y_pred_test)\n",
        "\n",
        "print('MAE:  %.4f' % MAE)\n",
        "print('MSE: %.4f' % MSE)\n",
        "print('RMSE: %.4f' % RMSE)\n",
        "print('R2:   %.4f' % R2)\n",
        "\n",
        "# Visualización de resultados\n",
        "report_regression_graphics(y_testing, y_pred_test)"
      ]
    },
    {
      "cell_type": "markdown",
      "metadata": {
        "id": "XPcSUpbLg4O8"
      },
      "source": [
        "### ACTIVIDAD EXTRA"
      ]
    },
    {
      "cell_type": "markdown",
      "metadata": {
        "id": "yKV0rbOBg4O9"
      },
      "source": [
        "#### Entrenar el mejor modelo posible con el algoritmo KNN y comparar el resultado con el modelo OLS en test"
      ]
    },
    {
      "cell_type": "code",
      "execution_count": null,
      "metadata": {
        "id": "eZ399hk0g4O9",
        "outputId": "60c181e5-110c-4854-ac5b-8feabd826990",
        "colab": {
          "base_uri": "https://localhost:8080/"
        }
      },
      "outputs": [
        {
          "output_type": "stream",
          "name": "stdout",
          "text": [
            "Best iteration:  3\n",
            "Best parameters:  {'algorithm': 'ball_tree', 'metric': 'euclidean', 'n_neighbors': 2, 'weights': 'distance'}\n",
            "best R2:  0.7469 +- 0.1131\n"
          ]
        }
      ],
      "source": [
        "from tables.file import parameters\n",
        "from sklearn.model_selection import GridSearchCV\n",
        "# Definir parámetros de búsqueda\n",
        "parameters = {'n_neighbors': np.arange(1,15),\n",
        "              'weights': ('uniform','distance'),\n",
        "              'metric': ('euclidean','manhattan','minkowski'),\n",
        "              'algorithm': ('ball_tree', 'kd_tree', 'auto')}\n",
        "\n",
        "# Aplicar el algoritmo de búsqueda\n",
        "#vacío sin parámetros porque lo que nos interesa es conocer que alg queremos utilizar\n",
        "reg = KNeighborsRegressor()\n",
        "\n",
        "#Definimos el modelo, la métrica a comparar es r2\n",
        "model = GridSearchCV(reg,parameters,cv=KFold(n_splits=5, shuffle=True, random_state=42),scoring='r2')\n",
        "\n",
        "# Entrenar el modelo\n",
        "model.fit(X_stdr,y_training)\n",
        "\n",
        "# Extraer los mejores parámetros\n",
        "model.best_params_\n",
        "\n",
        "best_iter = model.best_index_\n",
        "\n",
        "print('Best iteration: ', best_iter)\n",
        "\n",
        "print('Best parameters: ', model.best_params_)\n",
        "\n",
        "mean_r2 = model.cv_results_['mean_test_score'][best_iter]\n",
        "std_r2 = model.cv_results_['std_test_score'][best_iter]\n",
        "\n",
        "\n",
        "print('best R2:  %.4f +- %.4f' % (mean_r2,std_r2))\n",
        "\n"
      ]
    },
    {
      "cell_type": "code",
      "source": [
        "# OPTIMIZATION OF HYPERPARAMETERS\n",
        "parameters = {'OLS': {},\n",
        "              'Lasso': {'alpha': (0.1, 1, 5, 10, 50, 100)},\n",
        "              'Ridge': {'alpha': (0.1, 1, 5, 10, 50, 100)},\n",
        "              'KNN': {'n_neighbors':range(10),\n",
        "                      'weights':('uniform', 'distance'),\n",
        "                      'metric': ('minkowski', 'euclidean', 'manhattan'),\n",
        "                      'algorithm': ('ball_tree', 'kd_tree', 'auto')}}"
      ],
      "metadata": {
        "id": "pfAD1HbgrC-g"
      },
      "execution_count": null,
      "outputs": []
    },
    {
      "cell_type": "code",
      "source": [
        "# ALGORITHMS\n",
        "algs = {'OLS': linear_model.LinearRegression(),\n",
        "        'Lasso': linear_model.Lasso(random_state=42),\n",
        "        'Ridge': linear_model.Ridge(random_state=42),\n",
        "        'KNN': KNeighborsRegressor()}"
      ],
      "metadata": {
        "id": "ZGWhh4pJrEFw"
      },
      "execution_count": null,
      "outputs": []
    },
    {
      "cell_type": "code",
      "execution_count": null,
      "metadata": {
        "id": "jqj32Z1Pg4O-",
        "outputId": "46e10381-eef6-4fc5-f054-c9e7342517b8",
        "colab": {
          "base_uri": "https://localhost:8080/"
        }
      },
      "outputs": [
        {
          "output_type": "stream",
          "name": "stdout",
          "text": [
            "Algorithm: OLS\n",
            "Best parameters:  {}\n",
            "R2 score: 0.7244 +/- 0.0635\n",
            "------------\n",
            "Algorithm: Lasso\n",
            "Best parameters:  {'alpha': 0.1}\n",
            "R2 score: 0.7180 +/- 0.0640\n",
            "------------\n",
            "Algorithm: Ridge\n",
            "Best parameters:  {'alpha': 5}\n",
            "R2 score: 0.7245 +/- 0.0633\n",
            "------------\n",
            "Algorithm: KNN\n",
            "Best parameters:  {'algorithm': 'ball_tree', 'metric': 'minkowski', 'n_neighbors': 2, 'weights': 'distance'}\n",
            "R2 score: 0.8223 +/- 0.0397\n",
            "------------\n"
          ]
        }
      ],
      "source": [
        "# Entrenar cada algoritmo y comparar los resultados (a nivel cuantitativo y cualitativo) sobre el conjunto de test\n",
        "from termcolor import colored\n",
        "model = {}\n",
        "for name, _ in algs.items():\n",
        "    print(colored('Algorithm: ' + name, 'red'))\n",
        "    score = make_scorer(r2_score)\n",
        "    model_cv = GridSearchCV(algs[name], parameters[name], scoring=score, cv=5, return_train_score=True)\n",
        "    model[name] = model_cv.fit(X_stdr, y_training)\n",
        "    cv_res = model[name].cv_results_\n",
        "    print('Best parameters: ', model[name].best_params_)\n",
        "    best_iter = model[name].best_index_\n",
        "    print('R2 score: %0.4f +/- %0.4f' % (cv_res['mean_test_score'][best_iter], cv_res['std_test_score'][best_iter]))\n",
        "    print('------------')\n",
        "\n",
        "    #El algoritmo mejor y con mejor scoring es KNN"
      ]
    }
  ],
  "metadata": {
    "kernelspec": {
      "display_name": "Python 3",
      "language": "python",
      "name": "python3"
    },
    "language_info": {
      "codemirror_mode": {
        "name": "ipython",
        "version": 3
      },
      "file_extension": ".py",
      "mimetype": "text/x-python",
      "name": "python",
      "nbconvert_exporter": "python",
      "pygments_lexer": "ipython3",
      "version": "3.8.5"
    },
    "colab": {
      "provenance": [],
      "include_colab_link": true
    }
  },
  "nbformat": 4,
  "nbformat_minor": 0
}