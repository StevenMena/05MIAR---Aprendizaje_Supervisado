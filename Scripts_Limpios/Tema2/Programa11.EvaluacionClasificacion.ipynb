{
 "cells": [
  {
   "cell_type": "code",
   "execution_count": null,
   "metadata": {},
   "outputs": [],
   "source": [
    "import numpy as np\n",
    "from sklearn import datasets\n",
    "from sklearn.dummy import DummyClassifier\n",
    "from sklearn.model_selection import cross_val_predict, cross_validate, cross_val_score\n",
    "from sklearn.model_selection import KFold\n",
    "import sklearn.metrics as metrics\n",
    "from sklearn.model_selection import train_test_split\n",
    "from sklearn import preprocessing\n",
    "from pprint import pprint\n",
    "from sklearn.svm import SVC\n",
    "import pandas as pd"
   ]
  },
  {
   "cell_type": "code",
   "execution_count": null,
   "metadata": {},
   "outputs": [],
   "source": [
    "# Carga de datos.\n",
    "datos = datasets.load_iris()\n",
    "# pprint(datos)\n",
    "print(np.shape(datos.data))"
   ]
  },
  {
   "cell_type": "code",
   "execution_count": null,
   "metadata": {},
   "outputs": [],
   "source": [
    "# Extraer la matriz de datos \"X\" y la variable target \"y\"\n",
    "X = datos.data\n",
    "y = datos.target"
   ]
  },
  {
   "cell_type": "code",
   "execution_count": null,
   "metadata": {},
   "outputs": [],
   "source": [
    "# Carga de datos.\n",
    "csv = pd.read_csv('Dataset_spine_2C.csv', sep=',')\n",
    "print(csv.head())\n",
    "# Convertir dataframe en numpy array\n",
    "data = np.array(csv)\n",
    "X = data[:,:-1]\n",
    "y = data[:,-1]\n",
    "\n",
    "ocur, frec = np.unique(y, return_counts=True)\n",
    "print(ocur, frec)"
   ]
  },
  {
   "cell_type": "code",
   "execution_count": null,
   "metadata": {},
   "outputs": [],
   "source": [
    "# Partición EXTERNA. Test: hold-out split 80-20%.\n",
    "X_train, X_test, y_train, y_test = train_test_split(X, y, test_size=0.2, random_state=42)\n",
    "print('Train dimensions: ', np.shape(X_train))\n",
    "print('Test dimensions:  ', np.shape(X_test))"
   ]
  },
  {
   "cell_type": "code",
   "execution_count": null,
   "metadata": {},
   "outputs": [],
   "source": [
    "# Estandarización de los datos de entrenamiento y test\n",
    "standardizer = preprocessing.StandardScaler()\n",
    "X_train = standardizer.fit_transform(X_train)\n",
    "X_test = standardizer.transform(X_test)"
   ]
  },
  {
   "cell_type": "code",
   "execution_count": null,
   "metadata": {},
   "outputs": [],
   "source": [
    "# Definimos el algoritmo\n",
    "# C=0.1, gamma='auto' y kernel gausiano\n",
    "alg = SVC(C=1, gamma='scale', kernel='rbf')"
   ]
  },
  {
   "cell_type": "code",
   "execution_count": null,
   "metadata": {},
   "outputs": [],
   "source": [
    "# Validación y obtención de las predicciones del modelo.\n",
    "# en \"cv=KFold(n_splits=5)\" se hace el cross-validation INTERNO!!\n",
    "# el comando \"cross_val_predict\" nos permite extraer directamente las predicciones de las 5 bolsas de validación\n",
    "y_pred = cross_val_predict(alg, X_train, y_train, cv = KFold(n_splits=5, shuffle=True, random_state=42))\n",
    "print(y_pred)"
   ]
  },
  {
   "cell_type": "code",
   "execution_count": null,
   "metadata": {},
   "outputs": [],
   "source": [
    "# Presentación de los resultados de la evaluación.\n",
    "print(\"Exactitud: %.3f\" % (metrics.accuracy_score(y_train, y_pred))) # accuracy\n",
    "print(\"Precisión: %.3f\" % (metrics.precision_score(y_train, y_pred, average=\"macro\"))) # precision\n",
    "print(\"Sensibilidad: %.3f\" % (metrics.recall_score(y_train, y_pred, average=\"macro\"))) # sensibilidad\n",
    "print(\"F1-score: %.3f\" % (metrics.f1_score(y_train, y_pred, average=\"macro\"))) # F-score\n"
   ]
  },
  {
   "cell_type": "code",
   "execution_count": null,
   "metadata": {},
   "outputs": [],
   "source": [
    "# Extraemos la matriz de confusión\n",
    "print(\"Matriz de confusión:\\n\", metrics.confusion_matrix(y_train, y_pred))"
   ]
  },
  {
   "cell_type": "code",
   "execution_count": null,
   "metadata": {},
   "outputs": [],
   "source": [
    "print(\"Tabla de métricas:\\n\", metrics.classification_report(y_train, y_pred))"
   ]
  },
  {
   "cell_type": "code",
   "execution_count": null,
   "metadata": {},
   "outputs": [],
   "source": [
    "# Una vez hemos optimizado los hiperparámetros con el conjunto de validación, utilizamos todos los datos de \n",
    "# \"train\" y \"validation\" para entrenar un modelo definitivo con esos hiperparámetros ajustados\n",
    "model = SVC(C=1, gamma='scale', kernel='rbf') # Definimos el modelo con los hiperparámetros óptimos\n",
    "model = model.fit(X_train, y_train) # Entrenamos el modelo con todos los datos de \"train\" + \"val\"\n",
    "\n",
    "# y finalmente evaluamos el test con el método \"score()\"\n",
    "test_results = model.score(X_test, y_test) # Evaluamos la exactitud del test\n",
    "print('Exactitud en test: ', np.round(test_results*100,4), '%')"
   ]
  },
  {
   "cell_type": "code",
   "execution_count": null,
   "metadata": {},
   "outputs": [],
   "source": [
    "# obtenemos las predicciones del test para extraer el resto de métricas de interés\n",
    "y_pred_test = model.predict(X_test) # Extraer predicciones\n",
    "print(metrics.classification_report(y_test, y_pred_test)) # Aplicar el método de classification_report()\n",
    "print(metrics.confusion_matrix(y_test, y_pred_test)) # Extraer la matriz de confusión"
   ]
  }
 ],
 "metadata": {
  "kernelspec": {
   "display_name": "Python 3",
   "language": "python",
   "name": "python3"
  },
  "language_info": {
   "codemirror_mode": {
    "name": "ipython",
    "version": 3
   },
   "file_extension": ".py",
   "mimetype": "text/x-python",
   "name": "python",
   "nbconvert_exporter": "python",
   "pygments_lexer": "ipython3",
   "version": "3.8.5"
  }
 },
 "nbformat": 4,
 "nbformat_minor": 2
}
