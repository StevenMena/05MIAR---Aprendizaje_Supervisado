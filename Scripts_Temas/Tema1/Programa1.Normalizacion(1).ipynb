{
  "cells": [
    {
      "cell_type": "code",
      "execution_count": 1,
      "metadata": {
        "id": "pINz5D136fNo"
      },
      "outputs": [],
      "source": [
        "from sklearn import preprocessing\n",
        "import numpy as np"
      ]
    },
    {
      "cell_type": "code",
      "execution_count": 2,
      "metadata": {
        "id": "_Q80Oe1m6fNr",
        "outputId": "c29a7d72-df21-4f2d-8837-5bf9acde4aeb",
        "colab": {
          "base_uri": "https://localhost:8080/"
        }
      },
      "outputs": [
        {
          "output_type": "stream",
          "name": "stdout",
          "text": [
            "[[ 1. -4.  5.]\n",
            " [ 5.  0.  2.]\n",
            " [ 0.  6. -3.]]\n"
          ]
        }
      ],
      "source": [
        "# Carga de datos.\n",
        "X_train = np.array([[ 1., -4.,  5.],\n",
        "                    [ 5.,  0.,  2.],\n",
        "                    [ 0.,  6., -3.]])\n",
        "\n",
        "print(X_train)"
      ]
    },
    {
      "cell_type": "code",
      "execution_count": 3,
      "metadata": {
        "id": "axhyKvq96fNt"
      },
      "outputs": [],
      "source": [
        "# Limpieza de datos: normalización.\n",
        "normalizer = preprocessing.MinMaxScaler()\n",
        "#Se entrena los datos con la normalización y  aplica la normalización (transform) a la matriz de datos original.\n",
        "X_train_norm = normalizer.fit_transform(X_train)"
      ]
    },
    {
      "cell_type": "code",
      "execution_count": 5,
      "metadata": {
        "id": "C0zIrqAi6fNu",
        "outputId": "a2167380-5afc-40b1-f689-2597e89b140e",
        "colab": {
          "base_uri": "https://localhost:8080/"
        }
      },
      "outputs": [
        {
          "output_type": "stream",
          "name": "stdout",
          "text": [
            "[[0.2   0.    1.   ]\n",
            " [1.    0.4   0.625]\n",
            " [0.    1.    0.   ]]\n"
          ]
        }
      ],
      "source": [
        "# Salida de resultados.\n",
        "print(X_train_norm)"
      ]
    },
    {
      "cell_type": "code",
      "execution_count": 6,
      "metadata": {
        "id": "R5V8sFgf6fNu",
        "outputId": "c976f1a9-b5c0-44ef-a38b-ff8fd11dcdf0",
        "colab": {
          "base_uri": "https://localhost:8080/"
        }
      },
      "outputs": [
        {
          "output_type": "stream",
          "name": "stdout",
          "text": [
            "True\n"
          ]
        }
      ],
      "source": [
        "# Ejemplo para ver que los resultados son iguales si aplicamos los métodos \"fit\" y \"transform\" por separado\n",
        "X_train_2 = np.copy(X_train)\n",
        "\n",
        "#The fit() method helps in fitting the data into a model, transform() method helps in transforming \n",
        "#the data into a form that is more suitable for the model. \n",
        "#Fit_transform() method, on the other hand, combines the functionalities of both fit() and transform() methods in one step.\n",
        "\n",
        "# Crea un objeto \"fitted_normalizer\" llamando al método \"fit\"\n",
        "f = normalizer.fit(X_train)\n",
        "\n",
        "# Aplica el objeto sobre los datos \"X_train_2\" para obtener \"X_train_norm_2\"\n",
        "X_train_norm_2 = f.transform(X_train)\n",
        "\n",
        "# Comprueba si \"X_train_norm\" y \"X_train_norm_2\" son iguales\n",
        "print(np.array_equiv(X_train_norm, X_train_norm_2))"
      ]
    },
    {
      "cell_type": "code",
      "execution_count": 7,
      "metadata": {
        "id": "zZiyFcV-6fNw",
        "outputId": "ad0cf0b0-0858-46cd-d56c-2d0eec420f41",
        "colab": {
          "base_uri": "https://localhost:8080/"
        }
      },
      "outputs": [
        {
          "output_type": "stream",
          "name": "stdout",
          "text": [
            "[[ 1. -3.  2.]\n",
            " [ 3.  0.  0.]\n",
            " [ 0.  4. -1.]]\n",
            "[[0.2   0.1   0.625]\n",
            " [0.6   0.4   0.375]\n",
            " [0.    0.8   0.25 ]]\n"
          ]
        }
      ],
      "source": [
        "# Normalizar un nuevo conjunto de datos de test (SOLO HAY QUE APLICAR EL MÉTODO \"transform\", NO EL \"fit\")\n",
        "X_test = np.array([[ 1., -3.,  2.],\n",
        "                    [ 3.,  0.,  0.],\n",
        "                    [ 0.,  4., -1.]])\n",
        "\n",
        "# Normalizar los datos de \"X_test\"\n",
        "#Se utiliza siempre el normalizador que se definio para el train\n",
        "X_test_norm = f.transform(X_test)\n",
        "\n",
        "print(X_test)\n",
        "print(X_test_norm)"
      ]
    }
  ],
  "metadata": {
    "kernelspec": {
      "display_name": "Python 3",
      "language": "python",
      "name": "python3"
    },
    "language_info": {
      "codemirror_mode": {
        "name": "ipython",
        "version": 3
      },
      "file_extension": ".py",
      "mimetype": "text/x-python",
      "name": "python",
      "nbconvert_exporter": "python",
      "pygments_lexer": "ipython3",
      "version": "3.8.5"
    },
    "colab": {
      "provenance": []
    }
  },
  "nbformat": 4,
  "nbformat_minor": 0
}