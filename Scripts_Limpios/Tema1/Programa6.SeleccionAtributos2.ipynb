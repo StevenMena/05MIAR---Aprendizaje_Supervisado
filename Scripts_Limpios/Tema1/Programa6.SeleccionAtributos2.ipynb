{
  "cells": [
    {
      "cell_type": "code",
      "execution_count": 1,
      "metadata": {
        "id": "bAg-ntqYu9Yz"
      },
      "outputs": [],
      "source": [
        "import numpy as np\n",
        "import matplotlib.pyplot as plt\n",
        "from sklearn.feature_selection import f_regression, mutual_info_regression"
      ]
    },
    {
      "cell_type": "code",
      "execution_count": 2,
      "metadata": {
        "id": "7K7xw1I_u9Y3",
        "outputId": "54b6ddb9-11f8-4ee0-84ce-152662571407",
        "colab": {
          "base_uri": "https://localhost:8080/"
        }
      },
      "outputs": [
        {
          "output_type": "stream",
          "name": "stdout",
          "text": [
            "[[0.37454012 0.95071431 0.73199394]\n",
            " [0.59865848 0.15601864 0.15599452]\n",
            " [0.05808361 0.86617615 0.60111501]\n",
            " ...\n",
            " [0.80000348 0.55270708 0.39655368]\n",
            " [0.13171503 0.86529576 0.15727321]\n",
            " [0.30978786 0.29004553 0.87141403]]\n",
            "(1000, 3)\n"
          ]
        }
      ],
      "source": [
        "# Carga de datos.\n",
        "#establece una semilla\n",
        "np.random.seed(42)\n",
        "#con es semilla crea numeros aleatorios para una matriz de 1000x3, 3 columnas y 1000 instancias\n",
        "X = np.random.rand(1000, 3)\n",
        "print(X)\n",
        "print(np.shape(X))"
      ]
    },
    {
      "cell_type": "code",
      "execution_count": null,
      "metadata": {
        "id": "HHg0ltOBu9Y4"
      },
      "outputs": [],
      "source": [
        "# Definimos la etiqueta (target, ground truth) haciéndola dependiente de las características x1 y x2\n",
        "y = X[:, 0] + np.sin(6 * np.pi * X[:, 1]) + 0.1 * np.random.randn(1000)"
      ]
    },
    {
      "cell_type": "code",
      "execution_count": null,
      "metadata": {
        "id": "yH-FjKOau9Y5"
      },
      "outputs": [],
      "source": [
        "# Evaluación de atributos: F-Test.\n",
        "f_test, _ = f_regression(X, y) # Llamamos al estadístico F\n",
        "f_test /= np.max(f_test) # Normalizamos"
      ]
    },
    {
      "cell_type": "code",
      "execution_count": null,
      "metadata": {
        "id": "RUdQh5lSu9Y6"
      },
      "outputs": [],
      "source": [
        "# Evaluación de atributos: información mutua.\n",
        "mi = mutual_info_regression(X, y)\n",
        "mi /= np.max(mi)"
      ]
    },
    {
      "cell_type": "code",
      "execution_count": null,
      "metadata": {
        "id": "x5GCbA4vu9Y7"
      },
      "outputs": [],
      "source": [
        "# Graficamos la distribución de los datos y evaluación de atributos.\n",
        "plt.figure(figsize=(15, 5))\n",
        "for i in range(3):\n",
        "    plt.subplot(1, 3, i + 1)\n",
        "    plt.scatter(X[:, i], y, edgecolor='black', s=20)\n",
        "    plt.xlabel(\"$x_{}$\".format(i + 1), fontsize=14)\n",
        "    if i == 0:\n",
        "        plt.ylabel(\"$y$\", fontsize=14)\n",
        "    plt.title(\"F-test={:.2f}, MI={:.2f}\".format(f_test[i],\n",
        "              mi[i]), fontsize=16)\n",
        "plt.show()"
      ]
    }
  ],
  "metadata": {
    "kernelspec": {
      "display_name": "Python 3",
      "language": "python",
      "name": "python3"
    },
    "language_info": {
      "codemirror_mode": {
        "name": "ipython",
        "version": 3
      },
      "file_extension": ".py",
      "mimetype": "text/x-python",
      "name": "python",
      "nbconvert_exporter": "python",
      "pygments_lexer": "ipython3",
      "version": "3.8.5"
    },
    "colab": {
      "provenance": []
    }
  },
  "nbformat": 4,
  "nbformat_minor": 0
}