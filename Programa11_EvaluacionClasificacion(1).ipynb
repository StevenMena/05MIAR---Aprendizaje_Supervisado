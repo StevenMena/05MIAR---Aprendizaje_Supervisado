{
  "cells": [
    {
      "cell_type": "markdown",
      "metadata": {
        "id": "view-in-github",
        "colab_type": "text"
      },
      "source": [
        "<a href=\"https://colab.research.google.com/github/StevenMena/05MIAR---Aprendizaje_Supervisado/blob/main/Programa11_EvaluacionClasificacion(1).ipynb\" target=\"_parent\"><img src=\"https://colab.research.google.com/assets/colab-badge.svg\" alt=\"Open In Colab\"/></a>"
      ]
    },
    {
      "cell_type": "code",
      "execution_count": null,
      "metadata": {
        "id": "xgaTFm6kBux1"
      },
      "outputs": [],
      "source": [
        "import numpy as np\n",
        "from sklearn import datasets\n",
        "from sklearn.dummy import DummyClassifier\n",
        "from sklearn.model_selection import cross_val_predict, cross_validate, cross_val_score\n",
        "from sklearn.model_selection import KFold\n",
        "import sklearn.metrics as metrics\n",
        "from sklearn.model_selection import train_test_split\n",
        "from sklearn import preprocessing\n",
        "from pprint import pprint\n",
        "from sklearn.svm import SVC"
      ]
    },
    {
      "cell_type": "code",
      "execution_count": null,
      "metadata": {
        "id": "MlBM7bZPBux7"
      },
      "outputs": [],
      "source": [
        "# Carga de datos.\n",
        "datos = datasets.load_iris()\n",
        "print(np.shape(datos.data))"
      ]
    },
    {
      "cell_type": "code",
      "execution_count": null,
      "metadata": {
        "id": "FkilGuqQBux-"
      },
      "outputs": [],
      "source": [
        "# Extraer la matriz de datos \"X\" y la variable target \"y\"\n",
        "X = datos.data\n",
        "y = datos.target"
      ]
    },
    {
      "cell_type": "code",
      "execution_count": null,
      "metadata": {
        "id": "-6Skz1GTBux_"
      },
      "outputs": [],
      "source": [
        "# Partición EXTERNA. Test: hold-out split 80-20%.\n",
        "X_train, X_test, y_train, y_test = train_test_split(datos.data, datos.target, test_size=0.2, random_state=42)\n",
        "print('Train dimensions: ', np.shape(X_train))\n",
        "print('Test dimensions:  ', np.shape(X_test))"
      ]
    },
    {
      "cell_type": "code",
      "execution_count": null,
      "metadata": {
        "id": "yEfCCCcABuyB"
      },
      "outputs": [],
      "source": [
        "# Estandarización de los datos de entrenamiento y test\n",
        "standardizer = ???\n",
        "X_train = ???\n",
        "X_test = ???"
      ]
    },
    {
      "cell_type": "code",
      "execution_count": null,
      "metadata": {
        "id": "82nmxmFxBuyD"
      },
      "outputs": [],
      "source": [
        "# Definimos el algoritmo. \n",
        "# C=0.1, gamma='auto' y kernel gausiano\n",
        "alg = ???"
      ]
    },
    {
      "cell_type": "code",
      "execution_count": null,
      "metadata": {
        "id": "1NZYU2v3BuyE"
      },
      "outputs": [],
      "source": [
        "# Cross-validation interno\n",
        "# Utilizar comando \"cross_val_predict\" para extraer directamente las metricas de las 5 bolsas de validación\n",
        "y_pred = cross_val_predict(alg, X_train, y_train, cv=KFold(n_splits=5, shuffle=True, random_state=42))\n",
        "print(y_pred)\n",
        "print(y_train)"
      ]
    },
    {
      "cell_type": "code",
      "execution_count": null,
      "metadata": {
        "id": "R9PevIInBuyF"
      },
      "outputs": [],
      "source": [
        "# Presentación de los resultados de la evaluación.\n",
        "print(\"Exactitud: %.3f\" % (metrics.accuracy_score(y_train, y_pred))) # accuracy\n",
        "print(\"Precisión: %.3f\" % (metrics.precision_score(y_train, y_pred, average=\"micro\"))) # precision\n",
        "print(\"Sensibilidad: %.3f\" % (metrics.recall_score(y_train, y_pred, average=\"micro\"))) # sensibilidad\n",
        "print(\"F1-score: %.3f\" % (metrics.f1_score(y_train, y_pred, average=\"micro\"))) # F-score"
      ]
    },
    {
      "cell_type": "code",
      "execution_count": null,
      "metadata": {
        "id": "niIlXfh8BuyI"
      },
      "outputs": [],
      "source": [
        "# Extraemos la matriz de confusión\n",
        "print(\"Matriz de confusión:\\n\", metrics.confusion_matrix(y_train, y_pred))"
      ]
    },
    {
      "cell_type": "code",
      "execution_count": null,
      "metadata": {
        "id": "qTJMgZP8BuyK"
      },
      "outputs": [],
      "source": [
        "print(\"Tabla de métricas:\\n\", metrics.classification_report(y_train, y_pred))"
      ]
    },
    {
      "cell_type": "code",
      "execution_count": null,
      "metadata": {
        "id": "Ebx8WhUxBuyM"
      },
      "outputs": [],
      "source": [
        "# Una vez hemos optimizado los hiperparámetros con el conjunto de validación, utilizamos todos los datos de \n",
        "# \"train\" y \"validation\" para entrenar un modelo definitivo con esos hiperparámetros ajustados\n",
        "model = SVC(C=10, gamma='auto', kernel='rbf') # Definimos el modelo con los hiperparámetros óptimos\n",
        "model = model.fit(X_train, y_train) # Entrenamos el modelo con todos los datos de \"train\" + \"val\"\n",
        "\n",
        "# y finalmente evaluamos el test con el método \"score()\"\n",
        "test_results = model.score(X_test, y_test)\n",
        "print('Exactitud en test: ', np.round(test_results*100,4), '%')"
      ]
    },
    {
      "cell_type": "code",
      "execution_count": null,
      "metadata": {
        "id": "YEULnV6zBuyO"
      },
      "outputs": [],
      "source": [
        "# obtenemos las predicciones del test para extraer el resto de métricas de interés\n",
        "y_pred_test = model.predict(X_test) # Extraer predicciones\n",
        "print(metrics.classification_report(y_test, y_pred_test)) # Aplicar el método de classification_report()\n",
        "print(metrics.confusion_matrix(y_test, y_pred_test)) # Extraer la matriz de confusión"
      ]
    }
  ],
  "metadata": {
    "kernelspec": {
      "display_name": "Python 3",
      "language": "python",
      "name": "python3"
    },
    "language_info": {
      "codemirror_mode": {
        "name": "ipython",
        "version": 3
      },
      "file_extension": ".py",
      "mimetype": "text/x-python",
      "name": "python",
      "nbconvert_exporter": "python",
      "pygments_lexer": "ipython3",
      "version": "3.8.5"
    },
    "colab": {
      "provenance": [],
      "include_colab_link": true
    }
  },
  "nbformat": 4,
  "nbformat_minor": 0
}