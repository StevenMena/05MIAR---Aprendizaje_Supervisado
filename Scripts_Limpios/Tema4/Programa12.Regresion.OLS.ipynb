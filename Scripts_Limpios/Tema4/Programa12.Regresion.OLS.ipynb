{
  "cells": [
    {
      "cell_type": "code",
      "execution_count": 2,
      "metadata": {
        "id": "TMXOXnFYjFjX"
      },
      "outputs": [],
      "source": [
        "import numpy as np\n",
        "from math import sqrt\n",
        "from pprint import pprint\n",
        "from sklearn import datasets, linear_model, metrics\n",
        "from sklearn.dummy import DummyRegressor\n",
        "from sklearn.model_selection import cross_validate, KFold, cross_val_predict, train_test_split, cross_val_score\n",
        "from sklearn import preprocessing\n",
        "from sklearn.metrics import make_scorer, mean_squared_error\n",
        "import matplotlib.pyplot as plt"
      ]
    },
    {
      "cell_type": "code",
      "execution_count": 5,
      "metadata": {
        "id": "mTF36ftZjFji",
        "outputId": "f5ef0617-565e-495b-ad73-e1769d2b6666",
        "colab": {
          "base_uri": "https://localhost:8080/"
        }
      },
      "outputs": [
        {
          "output_type": "stream",
          "name": "stdout",
          "text": [
            "Dimensiones de X:  (20640, 8)\n"
          ]
        }
      ],
      "source": [
        "# Carga de datos.\n",
        "#datos = datasets.load_boston()\n",
        "datos = datasets.fetch_california_housing()\n",
        "X = datos.data\n",
        "y = datos.target\n",
        "print('Dimensiones de X: ', np.shape(X))\n",
        "# print(y)\n",
        "# pprint(datos)"
      ]
    },
    {
      "cell_type": "code",
      "execution_count": 6,
      "metadata": {
        "id": "SPdyOFwAjFjk"
      },
      "outputs": [],
      "source": [
        "# # Métricas de evaluación.\n",
        "metricas = {\n",
        "  'MAE':  'neg_mean_absolute_error',\n",
        "  'RMSE': make_scorer(lambda y, y_pred:\n",
        "                      sqrt(metrics.mean_squared_error(y, y_pred)),\n",
        "                      greater_is_better=False),\n",
        "  'MAPE': make_scorer(lambda y, y_pred:\n",
        "                      np.mean(np.abs((y - y_pred) / y)) * 100,\n",
        "                      greater_is_better=False),\n",
        "  'R2':   'r2',}"
      ]
    },
    {
      "cell_type": "code",
      "execution_count": 7,
      "metadata": {
        "id": "eZ8avVg2jFjm",
        "outputId": "cb10efbd-db49-40b3-b684-3801ae470a97",
        "colab": {
          "base_uri": "https://localhost:8080/"
        }
      },
      "outputs": [
        {
          "output_type": "stream",
          "name": "stdout",
          "text": [
            "(16512, 8)\n",
            "(4128, 8)\n"
          ]
        }
      ],
      "source": [
        "# 1) Partición de datos externa\n",
        "X_training, X_testing, y_training, y_testing = train_test_split(X, y, test_size=0.2, random_state=42)\n",
        "print(np.shape(X_training))\n",
        "print(np.shape(X_testing))"
      ]
    },
    {
      "cell_type": "code",
      "execution_count": 8,
      "metadata": {
        "id": "hi_JXa43jFjn"
      },
      "outputs": [],
      "source": [
        "# 2) Extracción de características\n",
        "# 3) Estandarización de los datos de entrenamiento\n",
        "standardizer = preprocessing.StandardScaler()\n",
        "X_stdr = standardizer.fit_transform(X_training)"
      ]
    },
    {
      "cell_type": "code",
      "execution_count": null,
      "metadata": {
        "id": "yQmCFLeFjFjo"
      },
      "outputs": [],
      "source": [
        "# 4) Selección de atributos"
      ]
    },
    {
      "cell_type": "code",
      "execution_count": 9,
      "metadata": {
        "id": "I-bbtgv4jFjp"
      },
      "outputs": [],
      "source": [
        "# 5) Construcción del algoritmo de aprendizaje.\n",
        "reg = linear_model.LinearRegression(fit_intercept=True)"
      ]
    },
    {
      "cell_type": "code",
      "execution_count": 10,
      "metadata": {
        "id": "G9OC1GERjFjq",
        "outputId": "8b63b6b0-3e11-4dcf-967c-eba62e590601",
        "colab": {
          "base_uri": "https://localhost:8080/"
        }
      },
      "outputs": [
        {
          "output_type": "stream",
          "name": "stdout",
          "text": [
            "{'fit_time': array([0.05414557, 0.02253032, 0.02651811, 0.02463818, 0.02697659]),\n",
            " 'score_time': array([0.00805211, 0.00322199, 0.00318813, 0.00183988, 0.00175428]),\n",
            " 'test_MAE': array([-0.54071407, -0.52878981, -0.51274193, -0.53512422, -0.52793364]),\n",
            " 'test_MAPE': array([-31.74769388, -31.65516613, -30.97054077, -32.61432353,\n",
            "       -30.685065  ]),\n",
            " 'test_R2': array([0.60970239, 0.60411343, 0.6354319 , 0.60076148, 0.60727452]),\n",
            " 'test_RMSE': array([-0.73389779, -0.72516701, -0.69726867, -0.73337185, -0.71284225])}\n"
          ]
        }
      ],
      "source": [
        "# 5.1) Validación cruzada interna\n",
        "\n",
        "# Extraer directamente resultados del error para cada bolsa, en lugar de las predicciones\n",
        "#cross_val_score solo devuelve una métrica, la exactitud en cada bolsa\n",
        "#el cross_validate todas la métricas definidas\n",
        "#cross_val_predict devuelve todas las prediciones realizas por bolsas\n",
        "cross_val_results = cross_validate(reg, X_stdr, y_training, \n",
        "                                    cv = KFold(n_splits=5, shuffle=True, random_state=42), scoring=metricas)\n",
        "# print(\"cross_val_R2:   %0.4f +/- %0.4f\" % (-cross_val_results.mean(), cross_val_results.std()))\n",
        "pprint(cross_val_results)"
      ]
    },
    {
      "cell_type": "code",
      "execution_count": 11,
      "metadata": {
        "id": "SDxOru2BjFjr",
        "outputId": "76bcf924-562a-4bfa-a653-29f8bd0abb3b",
        "colab": {
          "base_uri": "https://localhost:8080/"
        }
      },
      "outputs": [
        {
          "output_type": "stream",
          "name": "stdout",
          "text": [
            "Model coeficients: \n",
            " [ 0.85438303  0.12254624 -0.29441013  0.33925949 -0.00230772 -0.0408291\n",
            " -0.89692888 -0.86984178]\n",
            "\n",
            "Término independiente:  2.071946937378619\n"
          ]
        }
      ],
      "source": [
        "# 5.2) Entrenamiento con todos los datos para obtener los coeficientes del modelo.\n",
        "model = reg.fit(X_stdr, y_training)\n",
        "\n",
        "# Obtención de los coeficientes del modelo.\n",
        "w = model.coef_\n",
        "print('Model coeficients: \\n', w)\n",
        "\n",
        "# Obtención del término independiente del modelo.\n",
        "w_0 = model.intercept_\n",
        "print('\\nTérmino independiente: ', w_0)"
      ]
    },
    {
      "cell_type": "code",
      "execution_count": null,
      "metadata": {
        "id": "9Y9KBSGejFjs"
      },
      "outputs": [],
      "source": [
        "# ---- PREDICCIÓN ---- #"
      ]
    },
    {
      "cell_type": "code",
      "execution_count": 12,
      "metadata": {
        "id": "dlRVWWh3jFjt"
      },
      "outputs": [],
      "source": [
        "# 6) Extracción de las características de test \n",
        "# 7) Estandarización de las característiacs de test\n",
        "X_test_stdr = standardizer.transform(X_testing)"
      ]
    },
    {
      "cell_type": "code",
      "execution_count": null,
      "metadata": {
        "id": "qMQ-vBUYjFju"
      },
      "outputs": [],
      "source": [
        "# 8) Selección de los atributos de test"
      ]
    },
    {
      "cell_type": "code",
      "execution_count": 13,
      "metadata": {
        "id": "u7U5aDM9jFjv"
      },
      "outputs": [],
      "source": [
        "# 9) Predicción del conjunto de test\n",
        "y_pred_test = model.predict(X_test_stdr)"
      ]
    },
    {
      "cell_type": "code",
      "execution_count": 14,
      "metadata": {
        "id": "RZJL24wAjFjw",
        "outputId": "c35213f8-9166-469d-b1f9-fe29126001b9",
        "colab": {
          "base_uri": "https://localhost:8080/"
        }
      },
      "outputs": [
        {
          "output_type": "stream",
          "name": "stdout",
          "text": [
            "MAE:  0.5332\n",
            "MSE: 0.5559\n",
            "RMSE: 0.7456\n",
            "R2:   0.5758\n"
          ]
        }
      ],
      "source": [
        "# 10) Cálculo de las métricas de evaluación.\n",
        "MAE = metrics.mean_absolute_error(y_testing, y_pred_test)\n",
        "MSE = metrics.mean_squared_error(y_testing, y_pred_test, squared=True)\n",
        "RMSE = metrics.mean_squared_error(y_testing, y_pred_test, squared=False)\n",
        "R2 = metrics.r2_score(y_testing, y_pred_test)\n",
        "\n",
        "print('MAE:  %.4f' % MAE)\n",
        "print('MSE: %.4f' % MSE)\n",
        "print('RMSE: %.4f' % RMSE)\n",
        "print('R2:   %.4f' % R2)"
      ]
    },
    {
      "cell_type": "code",
      "execution_count": 15,
      "metadata": {
        "id": "QjR72MR_jFjw"
      },
      "outputs": [],
      "source": [
        "# Get regression graphics\n",
        "def report_regression_graphics(y_true, y_pred):\n",
        "    fig, ax = plt.subplots(2,1)\n",
        "\n",
        "    # Plot linear fit\n",
        "    ax[0].scatter(y_true, y_pred)\n",
        "    ax[0].set_ylabel('y_pred')\n",
        "    ax[0].set_title('Regression line')\n",
        "    ax[0].grid()\n",
        "    # overlay the regression line\n",
        "    z = np.polyfit(np.float64(y_true), y_pred, 1)\n",
        "    p = np.poly1d(z)\n",
        "    ax[0].plot(y_true, p(y_true), color='magenta')\n",
        "\n",
        "    # Plot bisectriz\n",
        "    ax[1].scatter(y_true, y_pred, edgecolors=(0, 0, 0))\n",
        "    ax[1].set_xlabel('y_true')\n",
        "    ax[1].set_ylabel('y_pred')\n",
        "    ax[1].set_title('Bisector')\n",
        "    ax[1].plot([y_true.min(), y_true.max()], [y_true.min(), y_true.max()], 'k--', lw=4)\n",
        "    ax[1].grid()"
      ]
    },
    {
      "cell_type": "code",
      "execution_count": 16,
      "metadata": {
        "id": "rY3yrW0OjFjx",
        "outputId": "f0c42c63-78da-4701-d499-57a81dd69ae5",
        "colab": {
          "base_uri": "https://localhost:8080/",
          "height": 296
        }
      },
      "outputs": [
        {
          "output_type": "display_data",
          "data": {
            "text/plain": [
              "<Figure size 432x288 with 2 Axes>"
            ],
            "image/png": "[encoded data removed]"
          },
          "metadata": {
            "needs_background": "light"
          }
        }
      ],
      "source": [
        "# Extraemos los resultados cualitativos del problema de regresión\n",
        "report_regression_graphics(y_testing, y_pred_test)\n",
        "\n",
        "#La bicetriz representa los valores predichos los puntos azules y en comparación de los valores reales pag 60 del Manual\n",
        "#y la regresion lineal "
      ]
    },
    {
      "cell_type": "code",
      "execution_count": null,
      "metadata": {
        "id": "7g-oGnaZjFjx"
      },
      "outputs": [],
      "source": [
        "# Información sobre los algoritmos Ridge, Lasso y Elasticnet\n",
        "# https://towardsdatascience.com/whats-the-difference-between-linear-regression-lasso-ridge-and-elasticnet-8f997c60cf29"
      ]
    }
  ],
  "metadata": {
    "kernelspec": {
      "display_name": "Python 3",
      "language": "python",
      "name": "python3"
    },
    "language_info": {
      "codemirror_mode": {
        "name": "ipython",
        "version": 3
      },
      "file_extension": ".py",
      "mimetype": "text/x-python",
      "name": "python",
      "nbconvert_exporter": "python",
      "pygments_lexer": "ipython3",
      "version": "3.8.5"
    },
    "colab": {
      "provenance": []
    }
  },
  "nbformat": 4,
  "nbformat_minor": 0
}